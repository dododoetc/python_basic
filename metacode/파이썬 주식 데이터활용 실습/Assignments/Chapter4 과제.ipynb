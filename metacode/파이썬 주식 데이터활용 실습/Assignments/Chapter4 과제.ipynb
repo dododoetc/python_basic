{
 "cells": [
  {
   "cell_type": "markdown",
   "id": "2ad63f42",
   "metadata": {},
   "source": [
    "### PyPortfolioOpt"
   ]
  },
  {
   "cell_type": "markdown",
   "id": "842359a9",
   "metadata": {},
   "source": [
    "- 종목 : KODEX 200, KODEX 단기채권, KODEX 레버리지, KODEX WTI원유선물(H), KODEX 골드선물(H), KODEX 미국S&P500선물(H)\n",
    "- 상기 ETF에 대해서 PyPortfolioOpt를 사용하여 평균-분산 최적화 결과를 확인하세요\n",
    "    - Sharpe Ratio 최적화"
   ]
  },
  {
   "cell_type": "code",
   "execution_count": null,
   "id": "a5998b08",
   "metadata": {
    "ExecuteTime": {
     "end_time": "2021-09-05T03:44:21.098085Z",
     "start_time": "2021-09-05T03:44:19.724449Z"
    }
   },
   "outputs": [],
   "source": [
    "import json\n",
    "import pandas as pd\n",
    "import numpy as np\n",
    "import FinanceDataReader as fdr\n",
    "from pypfopt.efficient_frontier import EfficientFrontier\n",
    "from pypfopt import risk_models\n",
    "from pypfopt import expected_returns\n",
    "\n",
    "stock2code = json.load(open('../data/stock2code.json','r'))\n",
    "universe = ['KODEX 200','KODEX 단기채권','KODEX 레버리지','KODEX WTI원유선물(H)','KODEX 골드선물(H)','KODEX 미국S&P500선물(H)']\n",
    "\n",
    "df = pd.DataFrame()\n",
    "for stock in universe:\n",
    "    df = pd.concat([df, fdr.DataReader(stock2code[stock]).Close], axis=1)\n",
    "    \n",
    "df.columns = universe\n",
    "df.dropna(inplace=True)\n",
    "df.index = pd.to_datetime(df.index)\n",
    "\n",
    "#<TODO>\n",
    "mu = expected_returns.  # 이하의 메서드 완성하여 기대수익률 구하기\n",
    "s = risk_models.        # 이하의 메서드 완성하여 공분산 구하기\n",
    "\n",
    "ef = EfficientFrontier(mu, s)\n",
    "weigths =      # ef객체의 메서드 활용하여 sharpe ratio 최대화하기\n",
    "weights = ef.clean_weights()\n",
    "weights"
   ]
  },
  {
   "cell_type": "markdown",
   "id": "d7b148af",
   "metadata": {},
   "source": [
    "### 다팩터모델"
   ]
  },
  {
   "cell_type": "markdown",
   "id": "df75929a",
   "metadata": {},
   "source": [
    "- KODEX200에 대한 파마-프렌치 5 factor model 회귀분석\n",
    "    - 아래의 csv파일은 \"http://henryquant.blogspot.com/search/label/Factor%20Investing\" 에서 다운로드하였음을 밝힙니다."
   ]
  },
  {
   "cell_type": "code",
   "execution_count": null,
   "id": "1e04a619",
   "metadata": {
    "ExecuteTime": {
     "end_time": "2021-09-05T11:44:12.921324Z",
     "start_time": "2021-09-05T11:44:12.696484Z"
    }
   },
   "outputs": [],
   "source": [
    "import FinanceDataReader as fdr\n",
    "import statsmodels.api as sm\n",
    "\n",
    "# 한국시장을 기준으로 한 5 factor data를 로드한 후 KODEX200의 데이터를 total_df로 합치는 과정\n",
    "three_factors = pd.read_csv('../data/five_factor_daily.csv', index_col=0, parse_dates=True).loc['2001':'2018-12-31']\n",
    "kospi200 = fdr.DataReader('069500', start='2001',end='2018-12-31').Close\n",
    "kospi200_ret = (np.log(kospi200) - np.log(kospi200.shift(1))) * 100\n",
    "kospi200_ret.name = 'portfolio'\n",
    "total_df = pd.concat([kospi200_ret, three_factors], axis=1).dropna()\n",
    "total_df['Port-Rf'] = total_df['portfolio'] - total_df['Rf']\n",
    "\n",
    "\n",
    "# 회귀분석을 위한 데이터 스플릿\n",
    "y = total_df['Port-Rf']\n",
    "X = total_df[['Mkt-Rf','SMB','HML']]\n",
    "X = sm.add_constant(X)\n",
    "\n",
    "\n",
    "\n",
    "#<TODO> : 아래의 빈칸(메서드)을 채우세요\n",
    "\n",
    "model = sm.                # OLS 클래스를 사용하여 회귀분석 객체 생성\n",
    "result = model.            # 모형 추정 메서드 사용하여 결과 객체 생성\n",
    "result.                    # 결과 리포트용 메서드를 사용하여 결과 확인"
   ]
  },
  {
   "cell_type": "markdown",
   "id": "141f0649",
   "metadata": {},
   "source": [
    "### KNN"
   ]
  },
  {
   "cell_type": "markdown",
   "id": "4e221519",
   "metadata": {},
   "source": [
    "- KODEX 200에 대한 KNN모델 학습\n",
    "    - 데이터분할 메서드 빈칸 채우기\n",
    "    - 모델 학습 및 예측값 구하는 메서드 비칸 채우기"
   ]
  },
  {
   "cell_type": "code",
   "execution_count": null,
   "id": "f642a358",
   "metadata": {
    "ExecuteTime": {
     "end_time": "2021-09-05T11:50:23.046998Z",
     "start_time": "2021-09-05T11:50:20.324877Z"
    }
   },
   "outputs": [],
   "source": [
    "import FinanceDataReader as fdr\n",
    "import numpy as np\n",
    "import pandas as pd\n",
    "from sklearn.neighbors import KNeighborsClassifier\n",
    "import matplotlib.pyplot as plt\n",
    "from sklearn.model_selection import train_test_split\n",
    "\n",
    "\n",
    "X_data = fdr.DataReader('069500').dropna()\n",
    "Y = np.where(X_data.Close.shift(-1) > X_data.Close, 1, -1)\n",
    "\n",
    "# <TODO>\n",
    "# 위에서 임포트한 sklearn 함수를 사용하여 데이터를 분할하세요\n",
    "# trian : test = 0.7 : 0.3\n",
    "X_train, X_test, y_train, y_test =  \n",
    "\n",
    "tr_accuracy = []\n",
    "te_accuracy = []\n",
    "\n",
    "for k in range(2, 20):\n",
    "    model = KNeighborsClassifier(n_neighbors=k)\n",
    "    \n",
    "    # <TODO> \n",
    "    model.              # 적당한 메서드를 사용하여 데이터 학습\n",
    "    pred =              # 적당한 메서드를 사용하여 예측값을 pred변수에 저장하세요\n",
    "    \n",
    "    tr_accuracy.append(model.score(X_train, y_train))\n",
    "    te_accuracy.append((pred==y_test).mean())\n",
    "    \n",
    "plt.figure(figsize=(14,5))\n",
    "plt.plot(range(2,20), tr_accuracy, label='train')\n",
    "plt.plot(range(2,20), te_accuracy, label='test')\n",
    "plt.legend()\n",
    "plt.show()"
   ]
  }
 ],
 "metadata": {
  "hide_input": false,
  "kernelspec": {
   "display_name": "Python 3",
   "language": "python",
   "name": "python3"
  },
  "language_info": {
   "codemirror_mode": {
    "name": "ipython",
    "version": 3
   },
   "file_extension": ".py",
   "mimetype": "text/x-python",
   "name": "python",
   "nbconvert_exporter": "python",
   "pygments_lexer": "ipython3",
   "version": "3.8.5"
  },
  "toc": {
   "base_numbering": 1,
   "nav_menu": {},
   "number_sections": true,
   "sideBar": true,
   "skip_h1_title": false,
   "title_cell": "Table of Contents",
   "title_sidebar": "Contents",
   "toc_cell": false,
   "toc_position": {},
   "toc_section_display": true,
   "toc_window_display": false
  },
  "varInspector": {
   "cols": {
    "lenName": 16,
    "lenType": 16,
    "lenVar": 40
   },
   "kernels_config": {
    "python": {
     "delete_cmd_postfix": "",
     "delete_cmd_prefix": "del ",
     "library": "var_list.py",
     "varRefreshCmd": "print(var_dic_list())"
    },
    "r": {
     "delete_cmd_postfix": ") ",
     "delete_cmd_prefix": "rm(",
     "library": "var_list.r",
     "varRefreshCmd": "cat(var_dic_list()) "
    }
   },
   "types_to_exclude": [
    "module",
    "function",
    "builtin_function_or_method",
    "instance",
    "_Feature"
   ],
   "window_display": false
  }
 },
 "nbformat": 4,
 "nbformat_minor": 5
}
