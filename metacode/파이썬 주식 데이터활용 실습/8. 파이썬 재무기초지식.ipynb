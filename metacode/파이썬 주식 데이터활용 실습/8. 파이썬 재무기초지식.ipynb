{
 "cells": [
  {
   "cell_type": "code",
   "execution_count": null,
   "id": "fea9aff7",
   "metadata": {
    "ExecuteTime": {
     "end_time": "2021-08-31T09:58:30.541590Z",
     "start_time": "2021-08-31T09:58:29.968771Z"
    }
   },
   "outputs": [],
   "source": [
    "import FinanceDataReader as fdr\n",
    "import pandas as pd\n",
    "import json\n",
    "stock2code = json.load(open('data/stock2code.json','r'))\n",
    "\n",
    "sk = fdr.DataReader(stock2code['SK하이닉스'])[['Close']]\n",
    "se = fdr.DataReader(stock2code['삼성전자'])[['Close']]\n",
    "prices = pd.concat([sk, se], axis=1).loc['2020-01-01':'2020-12-31']\n",
    "prices.columns =['SK','SE']\n",
    "prices.head()"
   ]
  },
  {
   "cell_type": "markdown",
   "id": "08137b03",
   "metadata": {},
   "source": [
    "## 일별수익률"
   ]
  },
  {
   "cell_type": "markdown",
   "id": "25c12cdb",
   "metadata": {},
   "source": [
    "$$ \\frac{P_t}{P_{t-1}} - 1$$"
   ]
  },
  {
   "cell_type": "code",
   "execution_count": null,
   "id": "c23b353f",
   "metadata": {
    "ExecuteTime": {
     "end_time": "2021-08-31T09:58:30.571852Z",
     "start_time": "2021-08-31T09:58:30.546620Z"
    }
   },
   "outputs": [],
   "source": [
    "# shift\n",
    "prices / prices.shift(1) - 1"
   ]
  },
  {
   "cell_type": "code",
   "execution_count": null,
   "id": "a65225c3",
   "metadata": {
    "ExecuteTime": {
     "end_time": "2021-08-31T09:58:30.616989Z",
     "start_time": "2021-08-31T09:58:30.574427Z"
    }
   },
   "outputs": [],
   "source": [
    "# pct_change\n",
    "prices.pct_change()"
   ]
  },
  {
   "cell_type": "code",
   "execution_count": null,
   "id": "3da36300",
   "metadata": {
    "ExecuteTime": {
     "end_time": "2021-08-31T09:58:30.647431Z",
     "start_time": "2021-08-31T09:58:30.619414Z"
    }
   },
   "outputs": [],
   "source": [
    "# log_return\n",
    "returns = np.log(prices) - np.log(prices.shift(1))\n",
    "returns"
   ]
  },
  {
   "cell_type": "code",
   "execution_count": null,
   "id": "ca3330e7",
   "metadata": {
    "ExecuteTime": {
     "end_time": "2021-08-31T09:58:31.250729Z",
     "start_time": "2021-08-31T09:58:30.648646Z"
    }
   },
   "outputs": [],
   "source": [
    "prices.plot()\n",
    "plt.show()"
   ]
  },
  {
   "cell_type": "code",
   "execution_count": null,
   "id": "60355cc1",
   "metadata": {
    "ExecuteTime": {
     "end_time": "2021-08-31T09:58:31.763313Z",
     "start_time": "2021-08-31T09:58:31.253721Z"
    }
   },
   "outputs": [],
   "source": [
    "#누적수익률\n",
    "cumrt = (returns + 1).cumprod() -1\n",
    "cumrt.plot()\n",
    "plt.show()"
   ]
  },
  {
   "cell_type": "code",
   "execution_count": null,
   "id": "c65120bb",
   "metadata": {
    "ExecuteTime": {
     "end_time": "2021-08-31T09:58:32.214516Z",
     "start_time": "2021-08-31T09:58:31.768012Z"
    }
   },
   "outputs": [],
   "source": [
    "# 월별수익률\n",
    "def cumproduct(x):\n",
    "    return (x+1).prod() -1 \n",
    "\n",
    "returns.resample('M').apply(cumproduct).plot(kind='bar', figsize=(14,5))\n",
    "plt.show()"
   ]
  },
  {
   "cell_type": "markdown",
   "id": "feaf805f",
   "metadata": {},
   "source": [
    "### 연율화"
   ]
  },
  {
   "cell_type": "code",
   "execution_count": null,
   "id": "2438bb28",
   "metadata": {
    "ExecuteTime": {
     "end_time": "2021-08-31T09:58:32.229477Z",
     "start_time": "2021-08-31T09:58:32.217510Z"
    }
   },
   "outputs": [],
   "source": [
    "rm =0.01\n",
    "(1+rm) ** 12 - 1"
   ]
  },
  {
   "cell_type": "code",
   "execution_count": null,
   "id": "8f291190",
   "metadata": {
    "ExecuteTime": {
     "end_time": "2021-08-31T09:58:32.244436Z",
     "start_time": "2021-08-31T09:58:32.232468Z"
    }
   },
   "outputs": [],
   "source": [
    "rq = 0.03\n",
    "(1+rq)**4 - 1"
   ]
  },
  {
   "cell_type": "code",
   "execution_count": null,
   "id": "103f84ae",
   "metadata": {
    "ExecuteTime": {
     "end_time": "2021-08-31T09:58:32.259396Z",
     "start_time": "2021-08-31T09:58:32.246433Z"
    }
   },
   "outputs": [],
   "source": [
    "rd = 0.0001\n",
    "(1+rd)**252 -1"
   ]
  },
  {
   "cell_type": "code",
   "execution_count": null,
   "id": "57d9a9e6",
   "metadata": {
    "ExecuteTime": {
     "end_time": "2021-08-31T09:58:32.289550Z",
     "start_time": "2021-08-31T09:58:32.261419Z"
    }
   },
   "outputs": [],
   "source": [
    "returns = returns.dropna()\n",
    "returns"
   ]
  },
  {
   "cell_type": "code",
   "execution_count": null,
   "id": "1ee889bb",
   "metadata": {
    "ExecuteTime": {
     "end_time": "2021-08-31T09:58:32.304376Z",
     "start_time": "2021-08-31T09:58:32.291312Z"
    }
   },
   "outputs": [],
   "source": [
    "# 일별 변동성\n",
    "returns.std()"
   ]
  },
  {
   "cell_type": "code",
   "execution_count": null,
   "id": "1505217c",
   "metadata": {
    "ExecuteTime": {
     "end_time": "2021-08-31T09:58:32.319237Z",
     "start_time": "2021-08-31T09:58:32.306272Z"
    }
   },
   "outputs": [],
   "source": [
    "# 변동성 연율화\n",
    "annualized_vol = returns.std() * np.sqrt(252)\n",
    "annualized_vol"
   ]
  },
  {
   "cell_type": "code",
   "execution_count": null,
   "id": "76eb2315",
   "metadata": {
    "ExecuteTime": {
     "end_time": "2021-08-31T09:58:32.334340Z",
     "start_time": "2021-08-31T09:58:32.321232Z"
    }
   },
   "outputs": [],
   "source": [
    "# 기하평균\n",
    "def geo_mean(x):\n",
    "    return ((1+x).prod()) ** (1/len(x)) - 1\n",
    "\n",
    "rt_per_day = returns.apply(geo_mean)\n",
    "annualized_rt = (rt_per_day + 1) ** 252 -1\n",
    "annualized_rt"
   ]
  },
  {
   "cell_type": "code",
   "execution_count": null,
   "id": "f6d4b1f9",
   "metadata": {
    "ExecuteTime": {
     "end_time": "2021-08-31T09:58:32.349156Z",
     "start_time": "2021-08-31T09:58:32.336192Z"
    }
   },
   "outputs": [],
   "source": [
    "# 샤프비율\n",
    "rf_rate = 0.03\n",
    "excess_rt = annualized_rt - rf_rate\n",
    "sharpe = excess_rt / annualized_vol\n",
    "sharpe"
   ]
  }
 ],
 "metadata": {
  "hide_input": false,
  "kernelspec": {
   "display_name": "Python 3",
   "language": "python",
   "name": "python3"
  },
  "language_info": {
   "codemirror_mode": {
    "name": "ipython",
    "version": 3
   },
   "file_extension": ".py",
   "mimetype": "text/x-python",
   "name": "python",
   "nbconvert_exporter": "python",
   "pygments_lexer": "ipython3",
   "version": "3.8.5"
  },
  "toc": {
   "base_numbering": 1,
   "nav_menu": {},
   "number_sections": true,
   "sideBar": true,
   "skip_h1_title": false,
   "title_cell": "Table of Contents",
   "title_sidebar": "Contents",
   "toc_cell": false,
   "toc_position": {},
   "toc_section_display": true,
   "toc_window_display": false
  },
  "varInspector": {
   "cols": {
    "lenName": 16,
    "lenType": 16,
    "lenVar": 40
   },
   "kernels_config": {
    "python": {
     "delete_cmd_postfix": "",
     "delete_cmd_prefix": "del ",
     "library": "var_list.py",
     "varRefreshCmd": "print(var_dic_list())"
    },
    "r": {
     "delete_cmd_postfix": ") ",
     "delete_cmd_prefix": "rm(",
     "library": "var_list.r",
     "varRefreshCmd": "cat(var_dic_list()) "
    }
   },
   "types_to_exclude": [
    "module",
    "function",
    "builtin_function_or_method",
    "instance",
    "_Feature"
   ],
   "window_display": false
  }
 },
 "nbformat": 4,
 "nbformat_minor": 5
}
