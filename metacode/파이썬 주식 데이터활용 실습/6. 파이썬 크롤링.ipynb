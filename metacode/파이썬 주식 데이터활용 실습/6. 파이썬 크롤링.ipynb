{
 "cells": [
  {
   "cell_type": "markdown",
   "id": "fa9ed8b3",
   "metadata": {},
   "source": [
    "## Web Crawling"
   ]
  },
  {
   "cell_type": "markdown",
   "id": "14058239",
   "metadata": {},
   "source": [
    "- requests\n",
    "- beautifulsoup\n",
    "- selenium"
   ]
  },
  {
   "cell_type": "code",
   "execution_count": null,
   "id": "b9fd0440",
   "metadata": {
    "ExecuteTime": {
     "end_time": "2021-08-31T09:57:32.821099Z",
     "start_time": "2021-08-31T09:57:24.895244Z"
    }
   },
   "outputs": [],
   "source": [
    "!pip install BeautifulSoup4\n",
    "!pip install selenium"
   ]
  },
  {
   "cell_type": "markdown",
   "id": "66606db0",
   "metadata": {},
   "source": [
    "### S&P 500"
   ]
  },
  {
   "cell_type": "code",
   "execution_count": null,
   "id": "57ee8177",
   "metadata": {
    "ExecuteTime": {
     "end_time": "2021-08-31T09:57:32.835988Z",
     "start_time": "2021-08-31T09:57:32.824479Z"
    }
   },
   "outputs": [],
   "source": [
    "import requests\n",
    "from bs4 import BeautifulSoup"
   ]
  },
  {
   "cell_type": "code",
   "execution_count": null,
   "id": "ac19e020",
   "metadata": {
    "ExecuteTime": {
     "end_time": "2021-08-31T09:57:32.880975Z",
     "start_time": "2021-08-31T09:57:32.840561Z"
    },
    "scrolled": true
   },
   "outputs": [],
   "source": [
    "def get_sp500():\n",
    "    url = 'https://en.wikipedia.org/wiki/List_of_S%26P_500_companies'\n",
    "    response = requests.get(url)\n",
    "    doc = BeautifulSoup(response.text, 'html.parser')\n",
    "    symbol = pd.Series([data.text.replace('\\n','') for data in doc.select('#constituents > tbody > tr > td:nth-child(1)')], name='Symbol')\n",
    "    security = pd.Series([data.text.replace('\\n','') for data in doc.select('#constituents > tbody > tr > td:nth-child(2)')], name='Security')\n",
    "    gics_sector = pd.Series([data.text.replace('\\n','') for data in doc.select('#constituents > tbody > tr > td:nth-child(4)')], name='GICS')\n",
    "    ticker = pd.Series([data.text.replace('\\n','') for data in doc.select('#constituents > tbody > tr > td:nth-child(8)')], name='CIK')\n",
    "    sp500_data = pd.concat([symbol, security, gics_sector, ticker], axis=1)\n",
    "    return sp500_data"
   ]
  },
  {
   "cell_type": "code",
   "execution_count": null,
   "id": "09ec529f",
   "metadata": {
    "ExecuteTime": {
     "end_time": "2021-08-31T09:57:37.312430Z",
     "start_time": "2021-08-31T09:57:32.883540Z"
    }
   },
   "outputs": [],
   "source": [
    "get_sp500()"
   ]
  },
  {
   "cell_type": "markdown",
   "id": "e3a6503d",
   "metadata": {},
   "source": [
    "### ETF"
   ]
  },
  {
   "cell_type": "code",
   "execution_count": null,
   "id": "50826e12",
   "metadata": {
    "ExecuteTime": {
     "end_time": "2021-08-31T09:57:41.542982Z",
     "start_time": "2021-08-31T09:57:37.316252Z"
    }
   },
   "outputs": [],
   "source": [
    "!pip install -U fake-useragent"
   ]
  },
  {
   "cell_type": "code",
   "execution_count": null,
   "id": "3464f86e",
   "metadata": {
    "ExecuteTime": {
     "end_time": "2021-08-31T09:57:41.602656Z",
     "start_time": "2021-08-31T09:57:41.546803Z"
    }
   },
   "outputs": [],
   "source": [
    "from fake_useragent import UserAgent"
   ]
  },
  {
   "cell_type": "markdown",
   "id": "bffbc9dd",
   "metadata": {},
   "source": [
    "- TIGER 200 IT (139260)\n",
    "- TIGER 헬스케어 (143860)"
   ]
  },
  {
   "cell_type": "code",
   "execution_count": null,
   "id": "15fd5bc7",
   "metadata": {
    "ExecuteTime": {
     "end_time": "2021-08-31T09:57:45.143309Z",
     "start_time": "2021-08-31T09:57:41.608635Z"
    }
   },
   "outputs": [],
   "source": [
    "contents = []\n",
    "for i in range(1, 11):\n",
    "    url = 'https://finance.naver.com/item/sise_day.nhn?code=139260&page={}'.format(i)\n",
    "    headers = { 'user-agent' :  UserAgent().chrome}\n",
    "    response = requests.get(url, headers=headers)\n",
    "    doc = BeautifulSoup(response.text, 'html5lib')  # 속도가 느림 / 정확\n",
    "    headers = [h.text for h in doc.select('body > table.type2 > tbody > tr:nth-child(1) > th')]\n",
    "    #3번째부터 7번째까지 / 11번째부터 15번째까지\n",
    "    for i in range(3, 8):\n",
    "        row = doc.select('body > table.type2 > tbody > tr:nth-child({}) > td '.format(i))\n",
    "        contents.append([data.text.replace('\\n', '').replace('\\t','') for data in row])\n",
    "    for i in range(11, 16):\n",
    "        row = doc.select('body > table.type2 > tbody > tr:nth-child({}) > td '.format(i))\n",
    "        contents.append([data.text.replace('\\n', '').replace('\\t','') for data in row])"
   ]
  },
  {
   "cell_type": "code",
   "execution_count": null,
   "id": "318e6fd3",
   "metadata": {
    "ExecuteTime": {
     "end_time": "2021-08-31T09:57:45.203729Z",
     "start_time": "2021-08-31T09:57:45.147297Z"
    }
   },
   "outputs": [],
   "source": [
    "etf_data = pd.DataFrame(contents, columns=headers)\n",
    "etf_data.set_index('날짜', inplace=True)\n",
    "etf_data.applymap(lambda x : int(x.replace(',','')))"
   ]
  },
  {
   "cell_type": "markdown",
   "id": "e5f0d2f3",
   "metadata": {},
   "source": [
    "### selenium (뉴스)"
   ]
  },
  {
   "cell_type": "code",
   "execution_count": null,
   "id": "31cc81ef",
   "metadata": {
    "ExecuteTime": {
     "end_time": "2021-08-31T09:57:45.413249Z",
     "start_time": "2021-08-31T09:57:45.208229Z"
    }
   },
   "outputs": [],
   "source": [
    "from selenium import webdriver"
   ]
  },
  {
   "cell_type": "code",
   "execution_count": null,
   "id": "5de020b2",
   "metadata": {
    "ExecuteTime": {
     "end_time": "2021-08-31T09:57:50.153686Z",
     "start_time": "2021-08-31T09:57:45.416159Z"
    }
   },
   "outputs": [],
   "source": [
    "pg = 3\n",
    "url = 'https://news.naver.com/main/main.naver?mode=LSD&mid=shm&sid1=101#&date=%2000:00:00&page={}'.format(pg)\n",
    "driver = webdriver.Chrome()\n",
    "driver.get(url)"
   ]
  },
  {
   "cell_type": "code",
   "execution_count": null,
   "id": "7c8295c9",
   "metadata": {
    "ExecuteTime": {
     "end_time": "2021-08-31T09:57:50.243448Z",
     "start_time": "2021-08-31T09:57:50.157687Z"
    }
   },
   "outputs": [],
   "source": [
    "news = driver.find_elements_by_css_selector('#section_body li')\n",
    "len(news)"
   ]
  },
  {
   "cell_type": "code",
   "execution_count": null,
   "id": "699807da",
   "metadata": {
    "ExecuteTime": {
     "end_time": "2021-08-31T09:57:50.303287Z",
     "start_time": "2021-08-31T09:57:50.247523Z"
    }
   },
   "outputs": [],
   "source": [
    "news[0].find_element_by_css_selector('#section_body li > dl > dt:nth-child(2) > a').text"
   ]
  },
  {
   "cell_type": "code",
   "execution_count": null,
   "id": "2a467d05",
   "metadata": {
    "ExecuteTime": {
     "end_time": "2021-08-31T09:57:50.812297Z",
     "start_time": "2021-08-31T09:57:50.306531Z"
    }
   },
   "outputs": [],
   "source": [
    "news_list = []\n",
    "\n",
    "for article in news:\n",
    "    try: \n",
    "        title = article.find_element_by_css_selector('#section_body li > dl > dt:nth-child(2) > a').text\n",
    "        news_list.append(title)\n",
    "    except:\n",
    "        continue \n",
    "news_list"
   ]
  },
  {
   "cell_type": "code",
   "execution_count": null,
   "id": "f90987f5",
   "metadata": {
    "ExecuteTime": {
     "end_time": "2021-08-31T09:57:50.827835Z",
     "start_time": "2021-08-31T09:57:50.815196Z"
    }
   },
   "outputs": [],
   "source": [
    "len(news_list)"
   ]
  },
  {
   "cell_type": "code",
   "execution_count": null,
   "id": "59a58cc2",
   "metadata": {
    "ExecuteTime": {
     "end_time": "2021-08-31T09:57:53.166490Z",
     "start_time": "2021-08-31T09:57:50.831342Z"
    }
   },
   "outputs": [],
   "source": [
    "#드라이버 종료!\n",
    "driver.quit()"
   ]
  }
 ],
 "metadata": {
  "hide_input": false,
  "kernelspec": {
   "display_name": "Python 3",
   "language": "python",
   "name": "python3"
  },
  "language_info": {
   "codemirror_mode": {
    "name": "ipython",
    "version": 3
   },
   "file_extension": ".py",
   "mimetype": "text/x-python",
   "name": "python",
   "nbconvert_exporter": "python",
   "pygments_lexer": "ipython3",
   "version": "3.8.5"
  },
  "toc": {
   "base_numbering": 1,
   "nav_menu": {},
   "number_sections": true,
   "sideBar": true,
   "skip_h1_title": false,
   "title_cell": "Table of Contents",
   "title_sidebar": "Contents",
   "toc_cell": false,
   "toc_position": {},
   "toc_section_display": true,
   "toc_window_display": false
  },
  "varInspector": {
   "cols": {
    "lenName": 16,
    "lenType": 16,
    "lenVar": 40
   },
   "kernels_config": {
    "python": {
     "delete_cmd_postfix": "",
     "delete_cmd_prefix": "del ",
     "library": "var_list.py",
     "varRefreshCmd": "print(var_dic_list())"
    },
    "r": {
     "delete_cmd_postfix": ") ",
     "delete_cmd_prefix": "rm(",
     "library": "var_list.r",
     "varRefreshCmd": "cat(var_dic_list()) "
    }
   },
   "types_to_exclude": [
    "module",
    "function",
    "builtin_function_or_method",
    "instance",
    "_Feature"
   ],
   "window_display": false
  }
 },
 "nbformat": 4,
 "nbformat_minor": 5
}
