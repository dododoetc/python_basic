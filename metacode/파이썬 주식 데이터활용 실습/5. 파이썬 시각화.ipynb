{
 "cells": [
  {
   "cell_type": "markdown",
   "id": "a574b2f4",
   "metadata": {},
   "source": [
    "## Matplotlib"
   ]
  },
  {
   "cell_type": "code",
   "execution_count": null,
   "id": "6bbec5ba",
   "metadata": {
    "ExecuteTime": {
     "end_time": "2021-09-03T15:30:36.026006Z",
     "start_time": "2021-09-03T15:30:32.068692Z"
    }
   },
   "outputs": [],
   "source": [
    "#설치\n",
    "!pip install matplotlib"
   ]
  },
  {
   "cell_type": "code",
   "execution_count": null,
   "id": "22595770",
   "metadata": {
    "ExecuteTime": {
     "end_time": "2021-09-03T15:30:36.055767Z",
     "start_time": "2021-09-03T15:30:36.028999Z"
    }
   },
   "outputs": [],
   "source": [
    "#import\n",
    "import matplotlib.pyplot as plt\n",
    "import matplotlib\n",
    "\n",
    "\n",
    "#사용가능한 font 중 'Nanum'으로 시작하는 폰트 확인하기  -> 저희는 NanumGothic을 쓸 겁니다!\n",
    "sorted([f.name for f in matplotlib.font_manager.fontManager.ttflist if f.name.startswith('Nanum')])"
   ]
  },
  {
   "cell_type": "code",
   "execution_count": null,
   "id": "41e19dd1",
   "metadata": {
    "ExecuteTime": {
     "end_time": "2021-09-03T15:30:36.071315Z",
     "start_time": "2021-09-03T15:30:36.056795Z"
    }
   },
   "outputs": [],
   "source": [
    "# 한글폰트 사용\n",
    "plt.rcParams['font.family'] = 'NanumGothic'\n",
    "\n",
    "# 음수기호 처리\n",
    "plt.rcParams['axes.unicode_minus'] = False"
   ]
  },
  {
   "cell_type": "code",
   "execution_count": null,
   "id": "ac94cb81",
   "metadata": {
    "ExecuteTime": {
     "end_time": "2021-09-03T15:30:36.731103Z",
     "start_time": "2021-09-03T15:30:36.073343Z"
    }
   },
   "outputs": [],
   "source": [
    "# parse_dates : 날짜데이터를 datetimeindex로 변환\n",
    "# index_col : 인덱스로 사용한 칼럼 지정\n",
    "\n",
    "kospi = pd.read_csv('data/kospi.csv', parse_dates=True, index_col='Date')\n",
    "kosdaq = pd.read_csv('data/kosdaq.csv', parse_dates=True, index_col=\"Date\")\n",
    "kospi.head().index"
   ]
  },
  {
   "cell_type": "code",
   "execution_count": null,
   "id": "922caada",
   "metadata": {
    "ExecuteTime": {
     "end_time": "2021-09-03T15:30:36.743073Z",
     "start_time": "2021-09-03T15:30:31.980Z"
    }
   },
   "outputs": [],
   "source": [
    "kospi.Close = (kospi.Close / kospi.Close[0]) * 100\n",
    "kosdaq.Close = (kosdaq.Close / kosdaq.Close[0]) * 100"
   ]
  },
  {
   "cell_type": "code",
   "execution_count": null,
   "id": "9d5f20e9",
   "metadata": {
    "ExecuteTime": {
     "end_time": "2021-09-03T15:30:36.744068Z",
     "start_time": "2021-09-03T15:30:31.982Z"
    }
   },
   "outputs": [],
   "source": [
    "plt.style.use('ggplot')\n",
    "plt.figure(figsize=(14,5))\n",
    "\n",
    "plt.subplot(121)\n",
    "plt.plot(kospi.index, kospi.Close, label='코스피')\n",
    "plt.title(\"코스피\", size=15, weight='bold', color='brown')\n",
    "plt.xticks(rotation='vertical')\n",
    "plt.xlabel('연도', size=15)\n",
    "plt.ylabel('수준')\n",
    "plt.legend()\n",
    "\n",
    "plt.subplot(122)\n",
    "plt.plot(kosdaq.index, kosdaq.Close, label='코스닥', color='blue', linestyle='--')\n",
    "plt.title(\"코스닥\", size=15, weight='bold', color='brown')\n",
    "plt.xticks(rotation='vertical')\n",
    "plt.xlabel('연도',size=15)\n",
    "plt.ylabel('수준')\n",
    "plt.legend()\n",
    "\n",
    "plt.show()"
   ]
  },
  {
   "cell_type": "code",
   "execution_count": null,
   "id": "b70fbe5f",
   "metadata": {
    "ExecuteTime": {
     "end_time": "2021-09-03T15:30:36.747061Z",
     "start_time": "2021-09-03T15:30:31.985Z"
    }
   },
   "outputs": [],
   "source": [
    "# 사용가능한 Graph 스타일\n",
    "print(plt.style.available)"
   ]
  },
  {
   "cell_type": "markdown",
   "id": "e8d43c4d",
   "metadata": {},
   "source": [
    "### pandas + matplotlib"
   ]
  },
  {
   "cell_type": "code",
   "execution_count": null,
   "id": "14abb95e",
   "metadata": {
    "ExecuteTime": {
     "end_time": "2021-09-03T15:30:36.749055Z",
     "start_time": "2021-09-03T15:30:31.987Z"
    }
   },
   "outputs": [],
   "source": [
    "fig, ax = plt.subplots(1,2)\n",
    "kospi.plot(y='Close', title='코스피 종가', label='코스피종가', figsize=(14,5), ax=ax[0])\n",
    "kosdaq.plot(y='Close', title='코스닥 종가', label='코스닥종가', ax=ax[1], color='blue')\n",
    "plt.show()"
   ]
  },
  {
   "cell_type": "code",
   "execution_count": null,
   "id": "07015385",
   "metadata": {
    "ExecuteTime": {
     "end_time": "2021-09-03T15:30:36.751050Z",
     "start_time": "2021-09-03T15:30:31.990Z"
    }
   },
   "outputs": [],
   "source": [
    "# Volume 거래량에 대한 Bar Chart (freq= 'Y')\n",
    "kospi_y_volume = kospi.Volume.resample('Y').mean()\n",
    "kospi_y_volume.index = kospi_y_volume.index.year\n",
    "kospi_y_volume.plot(kind='bar', figsize=(14,5), label='연도별 거래량')\n",
    "plt.legend()\n",
    "plt.show()"
   ]
  },
  {
   "cell_type": "code",
   "execution_count": null,
   "id": "142a3ffe",
   "metadata": {
    "ExecuteTime": {
     "end_time": "2021-09-03T15:30:36.753045Z",
     "start_time": "2021-09-03T15:30:31.992Z"
    }
   },
   "outputs": [],
   "source": [
    "# kospi와 kosdaq 산점도 (scatter plot)\n",
    "kospi_kosdaq = pd.concat([kospi.Close, kosdaq.Close], axis=1)\n",
    "kospi_kosdaq.columns = ['Kospi','Kosdaq']\n",
    "kospi_kosdaq.loc['2019-01-01':'2020-12-31'].plot(kind='scatter', x='Kospi', y='Kosdaq', figsize=(14,5),\n",
    "                                                color='coral', s=100 , alpha=0.5)\n",
    "plt.show()"
   ]
  },
  {
   "cell_type": "code",
   "execution_count": null,
   "id": "649139fc",
   "metadata": {
    "ExecuteTime": {
     "end_time": "2021-09-03T15:30:36.754042Z",
     "start_time": "2021-09-03T15:30:31.994Z"
    }
   },
   "outputs": [],
   "source": [
    "# pie 차트를 그리기 위한 데이터 라벨링\n",
    "\n",
    "kospi.Change = kospi.Change.map(lambda x : '상승' if x>=0 else '하락')"
   ]
  },
  {
   "cell_type": "code",
   "execution_count": null,
   "id": "c73dfedf",
   "metadata": {
    "ExecuteTime": {
     "end_time": "2021-09-03T15:30:36.755039Z",
     "start_time": "2021-09-03T15:30:31.996Z"
    }
   },
   "outputs": [],
   "source": [
    "kospi.groupby('Change').size().plot(kind='pie',\n",
    "                                   figsize=(10,8),\n",
    "                                   autopct= '%1.1f%%',\n",
    "                                   fontsize=15,\n",
    "                                   colors=['coral','skyblue'],\n",
    "                                   label='상승/하락')\n",
    "plt.show()"
   ]
  },
  {
   "cell_type": "markdown",
   "id": "41234498",
   "metadata": {},
   "source": [
    "## Seaborn"
   ]
  },
  {
   "cell_type": "code",
   "execution_count": null,
   "id": "f28b3972",
   "metadata": {
    "ExecuteTime": {
     "end_time": "2021-09-03T15:30:36.756037Z",
     "start_time": "2021-09-03T15:30:31.999Z"
    }
   },
   "outputs": [],
   "source": [
    "!pip install seaborn\n",
    "import seaborn as sns"
   ]
  },
  {
   "cell_type": "markdown",
   "id": "ca2fc196",
   "metadata": {},
   "source": [
    "### 회귀선 + 산점도"
   ]
  },
  {
   "cell_type": "code",
   "execution_count": null,
   "id": "d2d2fc1c",
   "metadata": {
    "ExecuteTime": {
     "end_time": "2021-09-03T15:30:36.758031Z",
     "start_time": "2021-09-03T15:30:32.003Z"
    }
   },
   "outputs": [],
   "source": [
    "# seaborn에서 사용가능한 데이터셋 목록\n",
    "sns.get_dataset_names()"
   ]
  },
  {
   "cell_type": "code",
   "execution_count": null,
   "id": "f77c4fcc",
   "metadata": {
    "ExecuteTime": {
     "end_time": "2021-09-03T15:30:36.759029Z",
     "start_time": "2021-09-03T15:30:32.006Z"
    }
   },
   "outputs": [],
   "source": [
    "iris = sns.load_dataset('iris')\n",
    "iris"
   ]
  },
  {
   "cell_type": "code",
   "execution_count": null,
   "id": "61e56245",
   "metadata": {
    "ExecuteTime": {
     "end_time": "2021-09-03T15:30:36.761023Z",
     "start_time": "2021-09-03T15:30:32.010Z"
    }
   },
   "outputs": [],
   "source": [
    "# 회귀 산점도 그리기\n",
    "\n",
    "sns.set_style('darkgrid')\n",
    "sns.regplot(x='petal_length', y='petal_width', data=iris)\n",
    "plt.title('My first regplot')\n",
    "plt.show()"
   ]
  },
  {
   "cell_type": "markdown",
   "id": "8eab5f0e",
   "metadata": {},
   "source": [
    "### distplot"
   ]
  },
  {
   "cell_type": "code",
   "execution_count": null,
   "id": "37197c54",
   "metadata": {
    "ExecuteTime": {
     "end_time": "2021-09-03T15:30:36.763019Z",
     "start_time": "2021-09-03T15:30:32.014Z"
    }
   },
   "outputs": [],
   "source": [
    "kosdaq"
   ]
  },
  {
   "cell_type": "code",
   "execution_count": null,
   "id": "2d54a574",
   "metadata": {
    "ExecuteTime": {
     "end_time": "2021-09-03T15:30:36.764015Z",
     "start_time": "2021-09-03T15:30:32.016Z"
    }
   },
   "outputs": [],
   "source": [
    "plt.figure(figsize=(14,5))\n",
    "sns.distplot(kosdaq.Change, kde=True,  fit=sp.stats.t)\n",
    "plt.title('distplot')\n",
    "plt.show()"
   ]
  },
  {
   "cell_type": "markdown",
   "id": "8712bcb7",
   "metadata": {},
   "source": [
    "## mplfinance (Candle Chart)"
   ]
  },
  {
   "cell_type": "code",
   "execution_count": null,
   "id": "d54301ee",
   "metadata": {
    "ExecuteTime": {
     "end_time": "2021-09-03T15:30:36.766010Z",
     "start_time": "2021-09-03T15:30:32.019Z"
    }
   },
   "outputs": [],
   "source": [
    "!pip install mplfinance\n",
    "import mplfinance as mpf"
   ]
  },
  {
   "cell_type": "code",
   "execution_count": null,
   "id": "27d610f9",
   "metadata": {
    "ExecuteTime": {
     "end_time": "2021-09-03T15:30:36.767007Z",
     "start_time": "2021-09-03T15:30:32.021Z"
    }
   },
   "outputs": [],
   "source": [
    "kospi = pd.read_csv('data/kospi.csv', index_col='Date', parse_dates=True)\n",
    "kospi.head()"
   ]
  },
  {
   "cell_type": "code",
   "execution_count": null,
   "id": "4139b5f2",
   "metadata": {
    "ExecuteTime": {
     "end_time": "2021-09-03T15:30:36.768004Z",
     "start_time": "2021-09-03T15:30:32.024Z"
    }
   },
   "outputs": [],
   "source": [
    "color = mpf.make_marketcolors(up='r', down='b', inherit=True)\n",
    "style = mpf.make_mpf_style(marketcolors=color)"
   ]
  },
  {
   "cell_type": "code",
   "execution_count": null,
   "id": "ca76e42b",
   "metadata": {
    "ExecuteTime": {
     "end_time": "2021-09-03T15:30:36.770000Z",
     "start_time": "2021-09-03T15:30:32.027Z"
    }
   },
   "outputs": [],
   "source": [
    "mpf.plot(kospi.loc['2021-01-01':'2021-06-30'], type='candle', figsize=(15,5),\n",
    "        volume=True, title='Candle Chart', mav=(10, 15, 20), style=style)\n",
    "plt.show()"
   ]
  },
  {
   "cell_type": "markdown",
   "id": "61525c5f",
   "metadata": {},
   "source": [
    "## plotly"
   ]
  },
  {
   "cell_type": "code",
   "execution_count": null,
   "id": "8ca7eaf5",
   "metadata": {
    "ExecuteTime": {
     "end_time": "2021-09-03T15:30:36.771994Z",
     "start_time": "2021-09-03T15:30:32.030Z"
    }
   },
   "outputs": [],
   "source": [
    "!pip install plotly\n",
    "!pip install cufflinks"
   ]
  },
  {
   "cell_type": "code",
   "execution_count": null,
   "id": "38ba0e24",
   "metadata": {
    "ExecuteTime": {
     "end_time": "2021-09-03T15:30:36.773989Z",
     "start_time": "2021-09-03T15:30:32.032Z"
    }
   },
   "outputs": [],
   "source": [
    "import cufflinks as cf\n",
    "from plotly.offline import iplot"
   ]
  },
  {
   "cell_type": "code",
   "execution_count": null,
   "id": "06cf39a4",
   "metadata": {
    "ExecuteTime": {
     "end_time": "2021-09-03T15:30:36.776984Z",
     "start_time": "2021-09-03T15:30:32.034Z"
    }
   },
   "outputs": [],
   "source": [
    "# plotly는 로그인이 필요한 온라인 툴인데 이를 오프라인에서 실행하겠다라는 의미\n",
    "cf.go_offline(connected=True)"
   ]
  },
  {
   "cell_type": "code",
   "execution_count": null,
   "id": "3ab7b142",
   "metadata": {
    "ExecuteTime": {
     "end_time": "2021-09-03T15:30:36.778975Z",
     "start_time": "2021-09-03T15:30:32.038Z"
    }
   },
   "outputs": [],
   "source": [
    "kospi"
   ]
  },
  {
   "cell_type": "code",
   "execution_count": null,
   "id": "af4697ec",
   "metadata": {
    "ExecuteTime": {
     "end_time": "2021-09-03T15:30:36.781968Z",
     "start_time": "2021-09-03T15:30:32.040Z"
    }
   },
   "outputs": [],
   "source": [
    "qplot = cf.QuantFig(kospi, title='kospi', legend='top', name='KOSPI')"
   ]
  },
  {
   "cell_type": "code",
   "execution_count": null,
   "id": "3fa86d32",
   "metadata": {
    "ExecuteTime": {
     "end_time": "2021-09-03T15:30:36.784991Z",
     "start_time": "2021-09-03T15:30:32.042Z"
    }
   },
   "outputs": [],
   "source": [
    "qplot.add_volume()\n",
    "qplot.add_sma(periods=20, column='Close', color='blue')   #단순이평선 (20일) 그려주기  \n",
    "qplot.add_ema(periods=20, color='red')                    #지수이평선 (20일) 그려주기  / default로 사용할 column은 close\n",
    "qplot.iplot()"
   ]
  }
 ],
 "metadata": {
  "hide_input": false,
  "kernelspec": {
   "display_name": "Python 3",
   "language": "python",
   "name": "python3"
  },
  "language_info": {
   "codemirror_mode": {
    "name": "ipython",
    "version": 3
   },
   "file_extension": ".py",
   "mimetype": "text/x-python",
   "name": "python",
   "nbconvert_exporter": "python",
   "pygments_lexer": "ipython3",
   "version": "3.8.5"
  },
  "toc": {
   "base_numbering": 1,
   "nav_menu": {},
   "number_sections": true,
   "sideBar": true,
   "skip_h1_title": false,
   "title_cell": "Table of Contents",
   "title_sidebar": "Contents",
   "toc_cell": false,
   "toc_position": {},
   "toc_section_display": true,
   "toc_window_display": false
  },
  "varInspector": {
   "cols": {
    "lenName": 16,
    "lenType": 16,
    "lenVar": 40
   },
   "kernels_config": {
    "python": {
     "delete_cmd_postfix": "",
     "delete_cmd_prefix": "del ",
     "library": "var_list.py",
     "varRefreshCmd": "print(var_dic_list())"
    },
    "r": {
     "delete_cmd_postfix": ") ",
     "delete_cmd_prefix": "rm(",
     "library": "var_list.r",
     "varRefreshCmd": "cat(var_dic_list()) "
    }
   },
   "types_to_exclude": [
    "module",
    "function",
    "builtin_function_or_method",
    "instance",
    "_Feature"
   ],
   "window_display": false
  }
 },
 "nbformat": 4,
 "nbformat_minor": 5
}
