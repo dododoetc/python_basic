{
 "cells": [
  {
   "cell_type": "markdown",
   "id": "fcec31a2",
   "metadata": {},
   "source": [
    "## KNN"
   ]
  },
  {
   "cell_type": "code",
   "execution_count": null,
   "id": "c9ec9b91",
   "metadata": {
    "ExecuteTime": {
     "end_time": "2021-08-31T09:39:01.658155Z",
     "start_time": "2021-08-31T09:39:01.642342Z"
    }
   },
   "outputs": [],
   "source": [
    "import FinanceDataReader as fdr\n",
    "import numpy as np\n",
    "import pandas as pd\n",
    "import matplotlib.pyplot as plt\n",
    "from sklearn.neighbors import KNeighborsClassifier\n",
    "from sklearn.metrics import accuracy_score\n",
    "from sklearn.model_selection import train_test_split\n",
    "import json"
   ]
  },
  {
   "cell_type": "code",
   "execution_count": null,
   "id": "ec91d879",
   "metadata": {
    "ExecuteTime": {
     "end_time": "2021-08-31T09:38:25.875993Z",
     "start_time": "2021-08-31T09:38:25.598386Z"
    }
   },
   "outputs": [],
   "source": [
    "stock2code = json.load(open('data/stock2code.json', 'r'))\n",
    "df = fdr.DataReader(stock2code['KODEX 200'], '2015-01-01', '2020-01-01')\n",
    "df.head()"
   ]
  },
  {
   "cell_type": "code",
   "execution_count": null,
   "id": "fb46824d",
   "metadata": {
    "ExecuteTime": {
     "end_time": "2021-08-31T09:38:29.689754Z",
     "start_time": "2021-08-31T09:38:29.669809Z"
    }
   },
   "outputs": [],
   "source": [
    "ohlc = df[['Open','High','Low','Close']]\n",
    "ohlc.tail()"
   ]
  },
  {
   "cell_type": "markdown",
   "id": "a7761132",
   "metadata": {},
   "source": [
    "### 데이터 가공"
   ]
  },
  {
   "cell_type": "code",
   "execution_count": null,
   "id": "a489d89b",
   "metadata": {
    "ExecuteTime": {
     "end_time": "2021-08-31T09:38:51.230713Z",
     "start_time": "2021-08-31T09:38:51.205665Z"
    }
   },
   "outputs": [],
   "source": [
    "X_data = ohlc\n",
    "X_data"
   ]
  },
  {
   "cell_type": "code",
   "execution_count": null,
   "id": "d7a33307",
   "metadata": {
    "ExecuteTime": {
     "end_time": "2021-08-31T09:38:54.415146Z",
     "start_time": "2021-08-31T09:38:54.389211Z"
    }
   },
   "outputs": [],
   "source": [
    "# 다음날 기준 종가가 시가보다 올랐다면 1, 그렇지 않다면 -1\n",
    "Y = np.where(ohlc.Close.shift(-1) > ohlc.Open.shift(-1), 1, -1)\n",
    "Y"
   ]
  },
  {
   "cell_type": "code",
   "execution_count": null,
   "id": "829bf1f6",
   "metadata": {
    "ExecuteTime": {
     "end_time": "2021-08-31T09:39:04.840676Z",
     "start_time": "2021-08-31T09:39:04.828333Z"
    }
   },
   "outputs": [],
   "source": [
    "X_train, X_test, y_train, y_test = train_test_split(X_data, Y, test_size=0.3)"
   ]
  },
  {
   "cell_type": "code",
   "execution_count": null,
   "id": "9b7fc330",
   "metadata": {
    "ExecuteTime": {
     "end_time": "2021-08-31T09:39:08.322008Z",
     "start_time": "2021-08-31T09:39:06.501646Z"
    }
   },
   "outputs": [],
   "source": [
    "tr_accuracy = []\n",
    "te_accuracy = []\n",
    "\n",
    "for k in range(2, 20):\n",
    "    model = KNeighborsClassifier(n_neighbors=k)\n",
    "    model.fit(X_train, y_train)\n",
    "    pred = model.predict(X_test)\n",
    "    \n",
    "    tr_accuracy.append(model.score(X_train, y_train))\n",
    "    te_accuracy.append((pred==y_test).mean())"
   ]
  },
  {
   "cell_type": "code",
   "execution_count": null,
   "id": "03e31d73",
   "metadata": {
    "ExecuteTime": {
     "end_time": "2021-08-31T09:39:09.445664Z",
     "start_time": "2021-08-31T09:39:08.599574Z"
    }
   },
   "outputs": [],
   "source": [
    "plt.figure(figsize=(14,5))\n",
    "plt.plot(range(2,20), tr_accuracy, label='train')\n",
    "plt.plot(range(2,20), te_accuracy, label='test')\n",
    "plt.legend()\n",
    "plt.show()"
   ]
  },
  {
   "cell_type": "code",
   "execution_count": null,
   "id": "56235a28",
   "metadata": {
    "ExecuteTime": {
     "end_time": "2021-08-31T09:39:23.436964Z",
     "start_time": "2021-08-31T09:39:23.337803Z"
    }
   },
   "outputs": [],
   "source": [
    "final_model = KNeighborsClassifier(n_neighbors=10)\n",
    "final_model.fit(X_train, y_train)\n",
    "\n",
    "tr_acc = accuracy_score(y_train, final_model.predict(X_train))\n",
    "te_acc = accuracy_score(y_test, final_model.predict(X_test))\n",
    "\n",
    "print(tr_acc)\n",
    "print(te_acc)"
   ]
  },
  {
   "cell_type": "markdown",
   "id": "3f01679a",
   "metadata": {},
   "source": [
    "## K-Means"
   ]
  },
  {
   "cell_type": "code",
   "execution_count": null,
   "id": "c997cd28",
   "metadata": {
    "ExecuteTime": {
     "end_time": "2021-08-31T09:39:55.481592Z",
     "start_time": "2021-08-31T09:39:55.465834Z"
    }
   },
   "outputs": [],
   "source": [
    "import FinanceDataReader as fdr\n",
    "import pandas as pd\n",
    "from sklearn.preprocessing import MinMaxScaler\n",
    "from sklearn.cluster import KMeans\n",
    "import matplotlib.pyplot as plt\n",
    "import seaborn as sns"
   ]
  },
  {
   "cell_type": "code",
   "execution_count": null,
   "id": "5044032b",
   "metadata": {
    "ExecuteTime": {
     "end_time": "2021-08-31T09:39:59.064866Z",
     "start_time": "2021-08-31T09:39:55.685426Z"
    }
   },
   "outputs": [],
   "source": [
    "data = fdr.StockListing('S&P500')\n",
    "data.tail()"
   ]
  },
  {
   "cell_type": "code",
   "execution_count": null,
   "id": "e103109e",
   "metadata": {
    "ExecuteTime": {
     "end_time": "2021-08-31T09:43:31.639837Z",
     "start_time": "2021-08-31T09:39:59.233247Z"
    }
   },
   "outputs": [],
   "source": [
    "ls = []\n",
    "for ticker in data.Symbol[:100]:\n",
    "    try: \n",
    "        df = fdr.DataReader(ticker, '2016-01-01','2020-12-31')['Close']\n",
    "        df.columns = [ticker]\n",
    "        ls.append(df)\n",
    "    except:\n",
    "        continue\n",
    "    total_df = pd.concat(ls, axis=1)\n",
    "\n",
    "total_df.sort_index(inplace=True)\n",
    "total_df.columns = data.Symbol[:100]\n",
    "total_df"
   ]
  },
  {
   "cell_type": "code",
   "execution_count": null,
   "id": "1fb7f629",
   "metadata": {
    "ExecuteTime": {
     "end_time": "2021-08-31T09:43:32.780426Z",
     "start_time": "2021-08-31T09:43:32.655988Z"
    }
   },
   "outputs": [],
   "source": [
    "#결측치 확인\n",
    "total_df.T.loc[total_df.isna().sum() > 10]"
   ]
  },
  {
   "cell_type": "code",
   "execution_count": null,
   "id": "68bd48c2",
   "metadata": {
    "ExecuteTime": {
     "end_time": "2021-08-31T09:43:33.842629Z",
     "start_time": "2021-08-31T09:43:33.815674Z"
    }
   },
   "outputs": [],
   "source": [
    "total_df.drop(['AMCR','CARR'], axis=1, inplace=True)  #두 종목은 버리고\n",
    "total_df.fillna(method='bfill', inplace=True)  # 다른종목에 대해서는 fillna"
   ]
  },
  {
   "cell_type": "code",
   "execution_count": null,
   "id": "49228c0e",
   "metadata": {
    "ExecuteTime": {
     "end_time": "2021-08-31T09:43:35.026827Z",
     "start_time": "2021-08-31T09:43:34.880452Z"
    }
   },
   "outputs": [],
   "source": [
    "df = total_df.pct_change().dropna().T\n",
    "df"
   ]
  },
  {
   "cell_type": "code",
   "execution_count": null,
   "id": "5fdcede3",
   "metadata": {
    "ExecuteTime": {
     "end_time": "2021-08-31T09:43:36.194656Z",
     "start_time": "2021-08-31T09:43:36.185673Z"
    }
   },
   "outputs": [],
   "source": [
    "tickers = list(df.index)\n",
    "returns = df.values"
   ]
  },
  {
   "cell_type": "markdown",
   "id": "e2942f6c",
   "metadata": {},
   "source": [
    "### 피처 스케일링"
   ]
  },
  {
   "cell_type": "code",
   "execution_count": null,
   "id": "053f2556",
   "metadata": {
    "ExecuteTime": {
     "end_time": "2021-08-31T09:43:37.529463Z",
     "start_time": "2021-08-31T09:43:37.399094Z"
    }
   },
   "outputs": [],
   "source": [
    "scaler = MinMaxScaler()\n",
    "scaled = scaler.fit_transform(df)\n",
    "df_scaled = pd.DataFrame(scaled, columns=df.columns)\n",
    "final = df_scaled.set_index(df.index)\n",
    "final.tail()"
   ]
  },
  {
   "cell_type": "markdown",
   "id": "896d47e6",
   "metadata": {},
   "source": [
    "### 클러스터링"
   ]
  },
  {
   "cell_type": "code",
   "execution_count": null,
   "id": "59239cc2",
   "metadata": {
    "ExecuteTime": {
     "end_time": "2021-08-31T09:43:40.904839Z",
     "start_time": "2021-08-31T09:43:39.485568Z"
    }
   },
   "outputs": [],
   "source": [
    "err = []\n",
    "for n in range(2, 11):\n",
    "    model = KMeans(n)\n",
    "    model.fit(final)\n",
    "    err.append(model.inertia_ / 100) #군집응집도 (작을수록 Good)"
   ]
  },
  {
   "cell_type": "code",
   "execution_count": null,
   "id": "d7dcdfb5",
   "metadata": {
    "ExecuteTime": {
     "end_time": "2021-08-31T09:43:42.268590Z",
     "start_time": "2021-08-31T09:43:42.241744Z"
    }
   },
   "outputs": [],
   "source": [
    "result = pd.DataFrame({'n_clusters':list(range(2,11)), 'err':err})\n",
    "result"
   ]
  },
  {
   "cell_type": "code",
   "execution_count": null,
   "id": "bf1a9bb0",
   "metadata": {
    "ExecuteTime": {
     "end_time": "2021-08-31T09:43:44.517147Z",
     "start_time": "2021-08-31T09:43:43.816643Z"
    }
   },
   "outputs": [],
   "source": [
    "plt.figure(figsize=(14,10))\n",
    "plt.plot(result.n_clusters, result.err)\n",
    "plt.show()"
   ]
  },
  {
   "cell_type": "code",
   "execution_count": null,
   "id": "89f226b6",
   "metadata": {
    "ExecuteTime": {
     "end_time": "2021-08-31T09:43:45.955490Z",
     "start_time": "2021-08-31T09:43:45.734182Z"
    }
   },
   "outputs": [],
   "source": [
    "model = KMeans(10)\n",
    "model.fit(final)\n",
    "model.labels_"
   ]
  },
  {
   "cell_type": "code",
   "execution_count": null,
   "id": "d267e7d7",
   "metadata": {
    "ExecuteTime": {
     "end_time": "2021-08-31T09:47:23.625859Z",
     "start_time": "2021-08-31T09:47:23.586532Z"
    }
   },
   "outputs": [],
   "source": [
    "result = data.loc[data.Symbol.isin(df.index.values)]\n",
    "result['label'] = model.labels_\n",
    "display(result)\n",
    "\n",
    "print(\"\\n****각 클러스터별 속한 종목의 수****\")\n",
    "display(result.groupby('label').size())"
   ]
  }
 ],
 "metadata": {
  "hide_input": false,
  "kernelspec": {
   "display_name": "Python 3",
   "language": "python",
   "name": "python3"
  },
  "language_info": {
   "codemirror_mode": {
    "name": "ipython",
    "version": 3
   },
   "file_extension": ".py",
   "mimetype": "text/x-python",
   "name": "python",
   "nbconvert_exporter": "python",
   "pygments_lexer": "ipython3",
   "version": "3.8.5"
  },
  "toc": {
   "base_numbering": 1,
   "nav_menu": {},
   "number_sections": true,
   "sideBar": true,
   "skip_h1_title": false,
   "title_cell": "Table of Contents",
   "title_sidebar": "Contents",
   "toc_cell": false,
   "toc_position": {},
   "toc_section_display": true,
   "toc_window_display": false
  },
  "varInspector": {
   "cols": {
    "lenName": 16,
    "lenType": 16,
    "lenVar": 40
   },
   "kernels_config": {
    "python": {
     "delete_cmd_postfix": "",
     "delete_cmd_prefix": "del ",
     "library": "var_list.py",
     "varRefreshCmd": "print(var_dic_list())"
    },
    "r": {
     "delete_cmd_postfix": ") ",
     "delete_cmd_prefix": "rm(",
     "library": "var_list.r",
     "varRefreshCmd": "cat(var_dic_list()) "
    }
   },
   "types_to_exclude": [
    "module",
    "function",
    "builtin_function_or_method",
    "instance",
    "_Feature"
   ],
   "window_display": false
  }
 },
 "nbformat": 4,
 "nbformat_minor": 5
}
