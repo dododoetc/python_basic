{
 "cells": [
  {
   "cell_type": "markdown",
   "id": "3154cc19",
   "metadata": {},
   "source": [
    "## 시장데이터 가져오기"
   ]
  },
  {
   "cell_type": "code",
   "execution_count": null,
   "id": "9fee57ee",
   "metadata": {
    "ExecuteTime": {
     "end_time": "2021-09-05T11:04:57.242911Z",
     "start_time": "2021-09-05T11:04:57.156979Z"
    }
   },
   "outputs": [],
   "source": [
    "import pandas_datareader as pdr\n",
    "import FinanceDataReader as fdr\n",
    "import matplotlib.pyplot as plt\n",
    "import statsmodels.api as sm"
   ]
  },
  {
   "cell_type": "code",
   "execution_count": null,
   "id": "0d04c468",
   "metadata": {
    "ExecuteTime": {
     "end_time": "2021-09-05T04:50:33.782950Z",
     "start_time": "2021-09-05T04:50:29.782882Z"
    }
   },
   "outputs": [],
   "source": [
    "snp = fdr.DataReader('US500')\n",
    "snp = np.log(snp.Close) - np.log(snp.Close.shift(1))\n",
    "snp_ret = snp.dropna() * 100\n",
    "snp_ret.name = 'snp_ret'"
   ]
  },
  {
   "cell_type": "code",
   "execution_count": null,
   "id": "416fa16b",
   "metadata": {
    "ExecuteTime": {
     "end_time": "2021-09-05T04:50:40.150481Z",
     "start_time": "2021-09-05T04:50:40.126902Z"
    }
   },
   "outputs": [],
   "source": [
    "snp_ret.describe()"
   ]
  },
  {
   "cell_type": "code",
   "execution_count": null,
   "id": "d63d95e5",
   "metadata": {
    "ExecuteTime": {
     "end_time": "2021-09-05T04:50:49.187090Z",
     "start_time": "2021-09-05T04:50:48.462667Z"
    }
   },
   "outputs": [],
   "source": [
    "snp_ret.plot()\n",
    "plt.show()"
   ]
  },
  {
   "cell_type": "markdown",
   "id": "09858137",
   "metadata": {},
   "source": [
    "## Fama-French 5 factor model"
   ]
  },
  {
   "cell_type": "code",
   "execution_count": null,
   "id": "a046a00d",
   "metadata": {
    "ExecuteTime": {
     "end_time": "2021-08-31T09:58:44.324005Z",
     "start_time": "2021-08-31T09:58:43.187489Z"
    }
   },
   "outputs": [],
   "source": [
    "import pandas_datareader.famafrench as ff\n",
    "\n",
    "#famafrench 데이터셋 확인하기\n",
    "datasets = ff.get_available_datasets()\n",
    "len(datasets)"
   ]
  },
  {
   "cell_type": "code",
   "execution_count": null,
   "id": "deb535ca",
   "metadata": {
    "ExecuteTime": {
     "end_time": "2021-09-05T04:51:23.571164Z",
     "start_time": "2021-09-05T04:51:19.133992Z"
    }
   },
   "outputs": [],
   "source": [
    "ff5 = pdr.DataReader('F-F_Research_Data_5_Factors_2x3_daily', 'famafrench', '2006')[0]\n",
    "ff5"
   ]
  },
  {
   "cell_type": "code",
   "execution_count": null,
   "id": "e89bb31c",
   "metadata": {
    "ExecuteTime": {
     "end_time": "2021-09-05T04:51:38.079632Z",
     "start_time": "2021-09-05T04:51:38.025128Z"
    }
   },
   "outputs": [],
   "source": [
    "ff5.describe()"
   ]
  },
  {
   "cell_type": "markdown",
   "id": "fe6d61ba",
   "metadata": {},
   "source": [
    "### 팩터별 상관계수"
   ]
  },
  {
   "cell_type": "code",
   "execution_count": null,
   "id": "16f9dc9c",
   "metadata": {
    "ExecuteTime": {
     "end_time": "2021-09-05T04:51:42.336845Z",
     "start_time": "2021-09-05T04:51:41.577976Z"
    }
   },
   "outputs": [],
   "source": [
    "import seaborn as sns\n",
    "sns.heatmap(ff5.corr(), annot=True)\n",
    "plt.show()"
   ]
  },
  {
   "cell_type": "markdown",
   "id": "2878c018",
   "metadata": {},
   "source": [
    "### 팩터별 누적수익률"
   ]
  },
  {
   "cell_type": "code",
   "execution_count": null,
   "id": "ff03e4e2",
   "metadata": {
    "ExecuteTime": {
     "end_time": "2021-09-05T04:51:44.273563Z",
     "start_time": "2021-09-05T04:51:43.502989Z"
    }
   },
   "outputs": [],
   "source": [
    "(1 + ff5/100).cumprod().plot(figsize=(14,5))\n",
    "plt.show()"
   ]
  },
  {
   "cell_type": "code",
   "execution_count": null,
   "id": "8e15b7c1",
   "metadata": {
    "ExecuteTime": {
     "end_time": "2021-09-05T04:52:26.702398Z",
     "start_time": "2021-09-05T04:52:26.663893Z"
    }
   },
   "outputs": [],
   "source": [
    "df = pd.concat([ff5, snp_ret], axis=1).dropna()\n",
    "df"
   ]
  },
  {
   "cell_type": "markdown",
   "id": "006ff454",
   "metadata": {},
   "source": [
    "## 회귀분석"
   ]
  },
  {
   "cell_type": "code",
   "execution_count": null,
   "id": "1b7db014",
   "metadata": {
    "ExecuteTime": {
     "end_time": "2021-09-05T04:52:46.047527Z",
     "start_time": "2021-09-05T04:52:46.025814Z"
    }
   },
   "outputs": [],
   "source": [
    "df['snp-rf'] = df.snp_ret - df.RF\n",
    "y = df['snp-rf']\n",
    "X = df[['Mkt-RF','SMB','HML','RMW','CMA']]\n",
    "X = sm.add_constant(X)"
   ]
  },
  {
   "cell_type": "code",
   "execution_count": null,
   "id": "2a2ff69f",
   "metadata": {
    "ExecuteTime": {
     "end_time": "2021-09-05T04:52:47.759330Z",
     "start_time": "2021-09-05T04:52:47.690429Z"
    }
   },
   "outputs": [],
   "source": [
    "model = sm.OLS(y, X)\n",
    "result = model.fit()\n",
    "result.summary()"
   ]
  }
 ],
 "metadata": {
  "hide_input": false,
  "kernelspec": {
   "display_name": "Python 3",
   "language": "python",
   "name": "python3"
  },
  "language_info": {
   "codemirror_mode": {
    "name": "ipython",
    "version": 3
   },
   "file_extension": ".py",
   "mimetype": "text/x-python",
   "name": "python",
   "nbconvert_exporter": "python",
   "pygments_lexer": "ipython3",
   "version": "3.8.5"
  },
  "toc": {
   "base_numbering": 1,
   "nav_menu": {},
   "number_sections": true,
   "sideBar": true,
   "skip_h1_title": false,
   "title_cell": "Table of Contents",
   "title_sidebar": "Contents",
   "toc_cell": false,
   "toc_position": {},
   "toc_section_display": true,
   "toc_window_display": false
  },
  "varInspector": {
   "cols": {
    "lenName": 16,
    "lenType": 16,
    "lenVar": 40
   },
   "kernels_config": {
    "python": {
     "delete_cmd_postfix": "",
     "delete_cmd_prefix": "del ",
     "library": "var_list.py",
     "varRefreshCmd": "print(var_dic_list())"
    },
    "r": {
     "delete_cmd_postfix": ") ",
     "delete_cmd_prefix": "rm(",
     "library": "var_list.r",
     "varRefreshCmd": "cat(var_dic_list()) "
    }
   },
   "types_to_exclude": [
    "module",
    "function",
    "builtin_function_or_method",
    "instance",
    "_Feature"
   ],
   "window_display": false
  }
 },
 "nbformat": 4,
 "nbformat_minor": 5
}
