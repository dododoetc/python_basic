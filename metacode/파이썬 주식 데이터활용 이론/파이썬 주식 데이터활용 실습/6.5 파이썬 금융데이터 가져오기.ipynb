{
 "cells": [
  {
   "cell_type": "markdown",
   "id": "ec2e80ff",
   "metadata": {},
   "source": [
    "## FinanceDataReader"
   ]
  },
  {
   "cell_type": "markdown",
   "id": "0f36803c",
   "metadata": {},
   "source": [
    "- https://github.com/FinanceData/FinanceDataReader/wiki/Users-Guide"
   ]
  },
  {
   "cell_type": "code",
   "execution_count": null,
   "id": "425b1619",
   "metadata": {
    "ExecuteTime": {
     "end_time": "2021-08-31T09:56:06.890140Z",
     "start_time": "2021-08-31T09:56:02.935910Z"
    }
   },
   "outputs": [],
   "source": [
    "!pip install finance-datareader\n",
    "import FinanceDataReader as fdr"
   ]
  },
  {
   "cell_type": "markdown",
   "id": "23c61fe9",
   "metadata": {},
   "source": [
    "- StockListing에 들어갈 수 있는 다양한 Market\n",
    "    - KRX ( KOSPI, KOSDAQ, KONDEX)\n",
    "    - NASDAQ, NYSE, S&P500"
   ]
  },
  {
   "cell_type": "code",
   "execution_count": null,
   "id": "62213764",
   "metadata": {
    "ExecuteTime": {
     "end_time": "2021-08-31T09:56:13.858271Z",
     "start_time": "2021-08-31T09:56:06.892135Z"
    }
   },
   "outputs": [],
   "source": [
    "krx_data = fdr.StockListing('KRX')\n",
    "krx_data"
   ]
  },
  {
   "cell_type": "code",
   "execution_count": null,
   "id": "06be6393",
   "metadata": {
    "ExecuteTime": {
     "end_time": "2021-08-31T09:56:16.470188Z",
     "start_time": "2021-08-31T09:56:13.862292Z"
    }
   },
   "outputs": [],
   "source": [
    "snp_data = fdr.StockListing('S&P500')\n",
    "snp_data"
   ]
  },
  {
   "cell_type": "code",
   "execution_count": null,
   "id": "9244c958",
   "metadata": {
    "ExecuteTime": {
     "end_time": "2021-08-31T09:56:16.710878Z",
     "start_time": "2021-08-31T09:56:16.472184Z"
    }
   },
   "outputs": [],
   "source": [
    "# krx_data에서 Name 칼럼의 값이 \"naver\"인 행의 Symbol칼럼 값을 가져오기\n",
    "naver_symbol = krx_data.loc[krx_data.Name == 'NAVER', ['Symbol']].values[0][0]\n",
    "\n",
    "# 2018년부터 2020년까지\n",
    "naver_df = fdr.DataReader(naver_symbol, '2018', '2020')\n",
    "naver_df"
   ]
  },
  {
   "cell_type": "code",
   "execution_count": null,
   "id": "5bdd734c",
   "metadata": {
    "ExecuteTime": {
     "end_time": "2021-08-31T09:56:18.367915Z",
     "start_time": "2021-08-31T09:56:16.715597Z"
    }
   },
   "outputs": [],
   "source": [
    "amzn_df = fdr.DataReader('AMZN', '2018','2020')\n",
    "amzn_df"
   ]
  },
  {
   "cell_type": "code",
   "execution_count": null,
   "id": "a810ff38",
   "metadata": {
    "ExecuteTime": {
     "end_time": "2021-08-31T09:56:25.010485Z",
     "start_time": "2021-08-31T09:56:18.372760Z"
    }
   },
   "outputs": [],
   "source": [
    "curr = fdr.DataReader('USD/KRW', '2000')\n",
    "curr.head()"
   ]
  },
  {
   "cell_type": "code",
   "execution_count": null,
   "id": "49934e76",
   "metadata": {
    "ExecuteTime": {
     "end_time": "2021-08-31T09:56:31.937041Z",
     "start_time": "2021-08-31T09:56:25.013521Z"
    }
   },
   "outputs": [],
   "source": [
    "# key : 종목명 / value : symbol\n",
    "dct = dict(fdr.StockListing('KRX')[['Name','Symbol']].values)"
   ]
  },
  {
   "cell_type": "code",
   "execution_count": null,
   "id": "5702a539",
   "metadata": {
    "ExecuteTime": {
     "end_time": "2021-08-31T09:56:31.981785Z",
     "start_time": "2021-08-31T09:56:31.939470Z"
    }
   },
   "outputs": [],
   "source": [
    "import json\n",
    "\n",
    "#위의 dict데이터를 json포맷으로 저장하고 불러오기\n",
    "json.dump(dct, open('data/stock2code.json','w'))\n",
    "stock2code = json.load(open('data/stock2code.json','r'))"
   ]
  },
  {
   "cell_type": "markdown",
   "id": "c7a7203a",
   "metadata": {},
   "source": [
    "## YahooFinance"
   ]
  },
  {
   "cell_type": "code",
   "execution_count": null,
   "id": "a4fe4818",
   "metadata": {
    "ExecuteTime": {
     "end_time": "2021-08-31T09:56:36.562520Z",
     "start_time": "2021-08-31T09:56:31.983780Z"
    }
   },
   "outputs": [],
   "source": [
    "!pip install yahoo-finance\n",
    "import yfinance as yf"
   ]
  },
  {
   "cell_type": "code",
   "execution_count": null,
   "id": "6ea5234a",
   "metadata": {
    "ExecuteTime": {
     "end_time": "2021-08-31T09:56:38.922132Z",
     "start_time": "2021-08-31T09:56:36.568470Z"
    }
   },
   "outputs": [],
   "source": [
    "df_amzn = yf.download('AMZN', \n",
    "           start=  '2018-01-01',\n",
    "           end='2020-12-31',\n",
    "           progress=False,  #진행상황 표시 여부 \n",
    "           auto_adjust = False,  #False로 하면 Adjust 전의 종가와 후의 종가 모두 확인 가능\n",
    "           actions='inline')\n",
    "df_amzn"
   ]
  },
  {
   "cell_type": "code",
   "execution_count": null,
   "id": "89a28d8e",
   "metadata": {
    "ExecuteTime": {
     "end_time": "2021-08-31T09:56:39.360172Z",
     "start_time": "2021-08-31T09:56:38.923899Z"
    },
    "scrolled": true
   },
   "outputs": [],
   "source": [
    "amzn = yf.Ticker('AMZN')\n",
    "amzn.history(period='6mo', interval = '5d')  #6개월전부터 현재까지, 5일 간격으로"
   ]
  },
  {
   "cell_type": "code",
   "execution_count": null,
   "id": "dff57142",
   "metadata": {
    "ExecuteTime": {
     "end_time": "2021-08-31T09:56:43.900555Z",
     "start_time": "2021-08-31T09:56:39.367010Z"
    },
    "scrolled": true
   },
   "outputs": [],
   "source": [
    "amzn.info"
   ]
  },
  {
   "cell_type": "code",
   "execution_count": null,
   "id": "910ce093",
   "metadata": {
    "ExecuteTime": {
     "end_time": "2021-08-31T09:56:43.976268Z",
     "start_time": "2021-08-31T09:56:43.906833Z"
    },
    "scrolled": true
   },
   "outputs": [],
   "source": [
    "amzn.get_balancesheet().iloc[0:6, :]  # 재무상태표"
   ]
  },
  {
   "cell_type": "code",
   "execution_count": null,
   "id": "ddfef289",
   "metadata": {
    "ExecuteTime": {
     "end_time": "2021-08-31T09:56:48.584744Z",
     "start_time": "2021-08-31T09:56:43.982015Z"
    }
   },
   "outputs": [],
   "source": [
    "yf.Ticker('005930.KS').info"
   ]
  },
  {
   "cell_type": "code",
   "execution_count": null,
   "id": "caf0d96e",
   "metadata": {
    "ExecuteTime": {
     "end_time": "2021-08-31T09:56:53.139634Z",
     "start_time": "2021-08-31T09:56:48.588733Z"
    }
   },
   "outputs": [],
   "source": [
    "yf.Ticker('005930.KS').get_balancesheet()"
   ]
  },
  {
   "cell_type": "markdown",
   "id": "2162ed0a",
   "metadata": {},
   "source": [
    "## Quandl"
   ]
  },
  {
   "cell_type": "markdown",
   "id": "094da61b",
   "metadata": {},
   "source": [
    "- 개인 API key 필요"
   ]
  },
  {
   "cell_type": "code",
   "execution_count": null,
   "id": "752bed4a",
   "metadata": {
    "ExecuteTime": {
     "end_time": "2021-08-31T09:56:59.239446Z",
     "start_time": "2021-08-31T09:56:53.141486Z"
    }
   },
   "outputs": [],
   "source": [
    "!pip install quandl\n",
    "import quandl"
   ]
  },
  {
   "cell_type": "code",
   "execution_count": null,
   "id": "2d20a2eb",
   "metadata": {
    "ExecuteTime": {
     "end_time": "2021-08-31T09:56:59.254402Z",
     "start_time": "2021-08-31T09:56:59.245419Z"
    }
   },
   "outputs": [],
   "source": [
    "quandl_key = '3n7gaTfhKSFKish4XKLN'\n",
    "quandl.ApiConfig.api_key = quandl_key"
   ]
  },
  {
   "cell_type": "markdown",
   "id": "fa2961e4",
   "metadata": {},
   "source": [
    "London Bullion Market Association"
   ]
  },
  {
   "cell_type": "markdown",
   "id": "9ccaad56",
   "metadata": {},
   "source": [
    "금 : LBMA/GOLD\n",
    "\n",
    "원유 : OPEC/ORB"
   ]
  },
  {
   "cell_type": "code",
   "execution_count": null,
   "id": "c5667d14",
   "metadata": {
    "ExecuteTime": {
     "end_time": "2021-08-31T09:57:01.628213Z",
     "start_time": "2021-08-31T09:56:59.258386Z"
    }
   },
   "outputs": [],
   "source": [
    "df_quandl = quandl.get(dataset=['LBMA/GOLD'], start_date='2015-01-01')\n",
    "df_quandl"
   ]
  },
  {
   "cell_type": "code",
   "execution_count": null,
   "id": "0ae4809d",
   "metadata": {
    "ExecuteTime": {
     "end_time": "2021-08-31T09:57:02.609981Z",
     "start_time": "2021-08-31T09:57:01.635748Z"
    }
   },
   "outputs": [],
   "source": [
    "cpi = quandl.get(dataset='RATEINF/CPI_USA', start_date='2015-01-01')\n",
    "cpi"
   ]
  },
  {
   "cell_type": "markdown",
   "id": "e46ede5f",
   "metadata": {},
   "source": [
    "## OpenDartReader"
   ]
  },
  {
   "cell_type": "markdown",
   "id": "b4c971d1",
   "metadata": {},
   "source": [
    "https://github.com/FinanceData/OpenDartReader"
   ]
  },
  {
   "cell_type": "code",
   "execution_count": null,
   "id": "f9945535",
   "metadata": {
    "ExecuteTime": {
     "end_time": "2021-08-31T09:57:07.747625Z",
     "start_time": "2021-08-31T09:57:02.613013Z"
    }
   },
   "outputs": [],
   "source": [
    "!pip install opendartreader\n",
    "import OpenDartReader"
   ]
  }
 ],
 "metadata": {
  "hide_input": false,
  "kernelspec": {
   "display_name": "Python 3",
   "language": "python",
   "name": "python3"
  },
  "language_info": {
   "codemirror_mode": {
    "name": "ipython",
    "version": 3
   },
   "file_extension": ".py",
   "mimetype": "text/x-python",
   "name": "python",
   "nbconvert_exporter": "python",
   "pygments_lexer": "ipython3",
   "version": "3.8.5"
  },
  "toc": {
   "base_numbering": 1,
   "nav_menu": {},
   "number_sections": true,
   "sideBar": true,
   "skip_h1_title": false,
   "title_cell": "Table of Contents",
   "title_sidebar": "Contents",
   "toc_cell": false,
   "toc_position": {},
   "toc_section_display": true,
   "toc_window_display": false
  },
  "varInspector": {
   "cols": {
    "lenName": 16,
    "lenType": 16,
    "lenVar": 40
   },
   "kernels_config": {
    "python": {
     "delete_cmd_postfix": "",
     "delete_cmd_prefix": "del ",
     "library": "var_list.py",
     "varRefreshCmd": "print(var_dic_list())"
    },
    "r": {
     "delete_cmd_postfix": ") ",
     "delete_cmd_prefix": "rm(",
     "library": "var_list.r",
     "varRefreshCmd": "cat(var_dic_list()) "
    }
   },
   "types_to_exclude": [
    "module",
    "function",
    "builtin_function_or_method",
    "instance",
    "_Feature"
   ],
   "window_display": false
  }
 },
 "nbformat": 4,
 "nbformat_minor": 5
}
