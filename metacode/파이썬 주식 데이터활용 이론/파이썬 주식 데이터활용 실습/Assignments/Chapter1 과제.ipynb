{
 "cells": [
  {
   "cell_type": "markdown",
   "id": "4e6a82e2",
   "metadata": {},
   "source": [
    "### 조건문"
   ]
  },
  {
   "cell_type": "markdown",
   "id": "0b3e33b9",
   "metadata": {},
   "source": [
    "- Age가 70 이상이면 '고령'\n",
    "- Age가 69이하 40이상이면 '중년'\n",
    "- Age가 39이하 20이상이면 '청년'\n",
    "- Age가 19이하면 '미성년'\n",
    "\n",
    "을 출력(print)하는 조건문을 만드세요.\n",
    "\n",
    "if와 elif else를 각각 1번 이상 사용하세요."
   ]
  },
  {
   "cell_type": "code",
   "execution_count": null,
   "id": "7544e28c",
   "metadata": {
    "ExecuteTime": {
     "end_time": "2021-09-04T15:19:48.682060Z",
     "start_time": "2021-09-04T15:19:47.100511Z"
    }
   },
   "outputs": [],
   "source": [
    "#TODO 이하의 코드를 채워주세요\n",
    "\n",
    "age = int(input())\n",
    "\n",
    "if age >= 70:\n",
    "    print(\"고령\")\n",
    "\n",
    "# <TODO>\n",
    "\n",
    "elif\n",
    "\n",
    "else"
   ]
  },
  {
   "cell_type": "markdown",
   "id": "2b9dacc9",
   "metadata": {},
   "source": [
    "### 반복문"
   ]
  },
  {
   "cell_type": "markdown",
   "id": "3d5b2259",
   "metadata": {},
   "source": [
    "- 나이 list에 대해서 **for문**과 **if문**을 사용하여 위의 조건에 맞게 숫자값을 문자열로 바꾸세요.\n",
    "\n",
    "- 예시\n",
    "\n",
    "```python\n",
    "age_list = [10,20,30,40]\n",
    "\n",
    "code1\n",
    "coede2\n",
    "\n",
    "['미성년','청년','청년','중년'] # <- 출력결과\n",
    "```"
   ]
  },
  {
   "cell_type": "code",
   "execution_count": null,
   "id": "ca007605",
   "metadata": {
    "ExecuteTime": {
     "end_time": "2021-09-04T15:31:36.976004Z",
     "start_time": "2021-09-04T15:31:36.965034Z"
    },
    "scrolled": true
   },
   "outputs": [],
   "source": [
    "import random\n",
    "random.seed(1)\n",
    "age_list = [random.randint(1,100) for _ in range(30)]\n",
    "\n",
    "\n",
    "for i in range(len(age_list)):\n",
    "    if age_list[i] >= 70:\n",
    "        age_list[i] = '고령'\n",
    "        \n",
    "    #<TODO>\n",
    "    \n",
    "\n",
    "print(age_list)"
   ]
  },
  {
   "cell_type": "markdown",
   "id": "2fc73702",
   "metadata": {},
   "source": [
    "### 함수"
   ]
  },
  {
   "cell_type": "markdown",
   "id": "d25ef83a",
   "metadata": {},
   "source": [
    "- 위 조건에 맞게 숫자값(age)을 문자열(ex. 고령)로 바꾸는 함수를 작성하고 이를 map 함수를 활용하여 2번 문제의 결과와 같은 결과값을 반환하세요"
   ]
  },
  {
   "cell_type": "code",
   "execution_count": null,
   "id": "8a243901",
   "metadata": {
    "ExecuteTime": {
     "end_time": "2021-09-04T15:32:49.200137Z",
     "start_time": "2021-09-04T15:32:49.189162Z"
    }
   },
   "outputs": [],
   "source": [
    "import random\n",
    "random.seed(1)\n",
    "age_list = [random.randint(1,100) for _ in range(30)]\n",
    "\n",
    "def age_to_string(age):\n",
    "    if age >= 70:\n",
    "        return '고령'\n",
    "    # <TODO> : 이하의 함수 코드를 완성하세요\n",
    "    \n",
    "    \n",
    "    \n",
    "result = list(map(age_to_string, age_list))\n",
    "print(result)"
   ]
  }
 ],
 "metadata": {
  "hide_input": false,
  "kernelspec": {
   "display_name": "Python 3",
   "language": "python",
   "name": "python3"
  },
  "language_info": {
   "codemirror_mode": {
    "name": "ipython",
    "version": 3
   },
   "file_extension": ".py",
   "mimetype": "text/x-python",
   "name": "python",
   "nbconvert_exporter": "python",
   "pygments_lexer": "ipython3",
   "version": "3.8.5"
  },
  "toc": {
   "base_numbering": 1,
   "nav_menu": {},
   "number_sections": true,
   "sideBar": true,
   "skip_h1_title": false,
   "title_cell": "Table of Contents",
   "title_sidebar": "Contents",
   "toc_cell": false,
   "toc_position": {},
   "toc_section_display": true,
   "toc_window_display": false
  },
  "varInspector": {
   "cols": {
    "lenName": 16,
    "lenType": 16,
    "lenVar": 40
   },
   "kernels_config": {
    "python": {
     "delete_cmd_postfix": "",
     "delete_cmd_prefix": "del ",
     "library": "var_list.py",
     "varRefreshCmd": "print(var_dic_list())"
    },
    "r": {
     "delete_cmd_postfix": ") ",
     "delete_cmd_prefix": "rm(",
     "library": "var_list.r",
     "varRefreshCmd": "cat(var_dic_list()) "
    }
   },
   "types_to_exclude": [
    "module",
    "function",
    "builtin_function_or_method",
    "instance",
    "_Feature"
   ],
   "window_display": false
  }
 },
 "nbformat": 4,
 "nbformat_minor": 5
}
