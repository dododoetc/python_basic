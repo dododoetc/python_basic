{
 "cells": [
  {
   "cell_type": "markdown",
   "id": "815ff619",
   "metadata": {},
   "source": [
    "### pandas"
   ]
  },
  {
   "cell_type": "markdown",
   "id": "1f0fe97d",
   "metadata": {},
   "source": [
    "- 로드한 데이터셋에 대하여\n",
    "\n",
    "1. Date칼럼을 Datatimeindex 타입으로 바꾼 후 해당 데이터프레임의 index로 설정하세요\n",
    "2. resample 메서드를 사용하여 '월별 (월말)' Chane칼럼의 최댓값을 구하세요\n",
    "    - 최댓값을 구할 땐 resample 객체에 .max() 메서드를 붙이면 구할 수 있습니다."
   ]
  },
  {
   "cell_type": "code",
   "execution_count": null,
   "id": "207bd086",
   "metadata": {
    "ExecuteTime": {
     "end_time": "2021-09-04T15:40:38.970504Z",
     "start_time": "2021-09-04T15:40:38.951553Z"
    }
   },
   "outputs": [],
   "source": [
    "import pandas as pd\n",
    "data = pd.read_csv('../data/kospi.csv')\n",
    "\n",
    "#<TODO>\n",
    "\n"
   ]
  },
  {
   "cell_type": "markdown",
   "id": "2280e552",
   "metadata": {},
   "source": [
    "### plotly"
   ]
  },
  {
   "cell_type": "markdown",
   "id": "0e7025f9",
   "metadata": {},
   "source": [
    "- 위에서 로드한 데이터셋에 대해서\n",
    "- '거래량' 데이터를 추가하여 iplot을 그려보세요"
   ]
  },
  {
   "cell_type": "code",
   "execution_count": null,
   "id": "7e4a828d",
   "metadata": {
    "ExecuteTime": {
     "end_time": "2021-09-04T15:44:23.777286Z",
     "start_time": "2021-09-04T15:44:21.423067Z"
    }
   },
   "outputs": [],
   "source": [
    "import cufflinks as cf\n",
    "from plotly.offline import iplot\n",
    "cf.go_offline(connected=True)\n",
    "qplot = cf.QuantFig(data, title='kospi', legend='top', name='KOSPI')\n",
    "\n",
    "#<TODO>\n",
    "\n"
   ]
  },
  {
   "cell_type": "markdown",
   "id": "f03e71d2",
   "metadata": {},
   "source": [
    "### 크롤링"
   ]
  },
  {
   "cell_type": "markdown",
   "id": "5dc9fb11",
   "metadata": {},
   "source": [
    "- 해당 url의 S&P500 종목에 대한 table을 크롤링합니다.\n",
    "- Symbol, Security, GICS Sector, CIK, Founded 칼럼에 해당하는 데이터만 크롤링합니다."
   ]
  },
  {
   "cell_type": "code",
   "execution_count": null,
   "id": "75f9d9ba",
   "metadata": {
    "ExecuteTime": {
     "end_time": "2021-08-31T09:57:32.880975Z",
     "start_time": "2021-08-31T09:57:32.840561Z"
    },
    "scrolled": true
   },
   "outputs": [],
   "source": [
    "import pandas as pd\n",
    "import requests\n",
    "from bs4 import BeautifulSoup\n",
    "\n",
    "url = 'https://en.wikipedia.org/wiki/List_of_S%26P_500_companies'\n",
    "response = requests.get(url)\n",
    "\n",
    "doc = #<TODO> : BeautifulSoup로 parsing하기\n",
    "\n",
    "symbol = pd.Series([data.text.replace('\\n','') for data in doc.select('#constituents > tbody > tr > td:nth-child(1)')], name='Symbol')\n",
    "security = pd.Series([data.text.replace('\\n','') for data in doc.select('#constituents > tbody > tr > td:nth-child(2)')], name='Security')\n",
    "gics_sector = pd.Series([data.text.replace('\\n','') for data in doc.select('#constituents > tbody > tr > td:nth-child(4)')], name='GICS')\n",
    "ticker = pd.Series([data.text.replace('\\n','') for data in doc.select('#constituents > tbody > tr > td:nth-child(8)')], name='CIK')\n",
    "\n",
    "\n",
    "# <TODO> : 바로 아래의 코드에서 doc.select()에 들어갈 css selector를 작성하세요\n",
    "founded = pd.Series([data.text.replace('\\n','') for data in doc.select(           )], name='Founded')\n",
    "\n",
    "\n",
    "sp500_data = pd.concat([symbol, security, gics_sector, ticker, founded], axis=1)"
   ]
  }
 ],
 "metadata": {
  "hide_input": false,
  "kernelspec": {
   "display_name": "Python 3",
   "language": "python",
   "name": "python3"
  },
  "language_info": {
   "codemirror_mode": {
    "name": "ipython",
    "version": 3
   },
   "file_extension": ".py",
   "mimetype": "text/x-python",
   "name": "python",
   "nbconvert_exporter": "python",
   "pygments_lexer": "ipython3",
   "version": "3.8.5"
  },
  "toc": {
   "base_numbering": 1,
   "nav_menu": {},
   "number_sections": true,
   "sideBar": true,
   "skip_h1_title": false,
   "title_cell": "Table of Contents",
   "title_sidebar": "Contents",
   "toc_cell": false,
   "toc_position": {},
   "toc_section_display": true,
   "toc_window_display": false
  },
  "varInspector": {
   "cols": {
    "lenName": 16,
    "lenType": 16,
    "lenVar": 40
   },
   "kernels_config": {
    "python": {
     "delete_cmd_postfix": "",
     "delete_cmd_prefix": "del ",
     "library": "var_list.py",
     "varRefreshCmd": "print(var_dic_list())"
    },
    "r": {
     "delete_cmd_postfix": ") ",
     "delete_cmd_prefix": "rm(",
     "library": "var_list.r",
     "varRefreshCmd": "cat(var_dic_list()) "
    }
   },
   "types_to_exclude": [
    "module",
    "function",
    "builtin_function_or_method",
    "instance",
    "_Feature"
   ],
   "window_display": false
  }
 },
 "nbformat": 4,
 "nbformat_minor": 5
}
