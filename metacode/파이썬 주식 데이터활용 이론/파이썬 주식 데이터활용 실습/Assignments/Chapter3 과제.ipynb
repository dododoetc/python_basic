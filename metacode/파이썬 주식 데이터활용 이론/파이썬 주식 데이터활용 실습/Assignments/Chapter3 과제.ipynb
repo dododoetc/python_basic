{
 "cells": [
  {
   "cell_type": "markdown",
   "id": "20aa697c",
   "metadata": {},
   "source": [
    "### 라이브러리 사용"
   ]
  },
  {
   "cell_type": "markdown",
   "id": "1601be63",
   "metadata": {},
   "source": [
    "- FinanceDataReader를 활용하여 S&P500에 편입된 종목 중 **Sector가 Information Techonology**인 종목들만 DataFrame형태로 출력하세요\n",
    "    - fdr.StockListing(\"S&P500\")\n",
    "    - .loc[ ] 활용"
   ]
  },
  {
   "cell_type": "code",
   "execution_count": null,
   "id": "f1f1680c",
   "metadata": {
    "ExecuteTime": {
     "end_time": "2021-09-05T03:20:34.968111Z",
     "start_time": "2021-09-05T03:20:32.676536Z"
    }
   },
   "outputs": [],
   "source": [
    "import FinanceDataReader as fdr\n",
    "df = fdr.StockListing(\"S&P500\")\n",
    "\n",
    "# <TODO>\n",
    "result = df.loc[ ]"
   ]
  },
  {
   "cell_type": "markdown",
   "id": "1ca8ee1c",
   "metadata": {},
   "source": [
    "### 기초통계 분석"
   ]
  },
  {
   "cell_type": "markdown",
   "id": "b9f69b9b",
   "metadata": {},
   "source": [
    "- 삼성전자와 SK하이닉스의 공분산 값을 구하세요\n",
    "    - 공분산 dataframe형태\n",
    "    - 수정종가에 대해서 (FinanceDataReader라면 Close 칼럼 사용하면 됨)\n",
    "    - 기간 : \"2010년부터 2020년까지\""
   ]
  },
  {
   "cell_type": "code",
   "execution_count": null,
   "id": "f973b60e",
   "metadata": {
    "ExecuteTime": {
     "end_time": "2021-09-05T03:25:19.165785Z",
     "start_time": "2021-09-05T03:25:18.742563Z"
    }
   },
   "outputs": [],
   "source": [
    "import FinanceDataReader as fdr\n",
    "se = fdr.DataReader(\"005930\").Close  #삼성전자\n",
    "sk = fdr.DataReader(\"000660\").Close  #SK하이닉스\n",
    "\n",
    "# <TODO>\n",
    "df = pd.concat([se, sk], axis=1).loc[ ]   # <- loc[ ]안에 기간 설정\n",
    "df.columns = ['삼성전자','SK하이닉스']\n",
    "\n",
    "# <TODO> : 공분산 DataFrame을 출력하세요"
   ]
  },
  {
   "cell_type": "markdown",
   "id": "f8269a0b",
   "metadata": {},
   "source": [
    "### 매매전략"
   ]
  },
  {
   "cell_type": "markdown",
   "id": "20f58141",
   "metadata": {},
   "source": [
    "- NAVER에 대해서 볼린저밴드 지표들을 계산하세요\n",
    "    - (수정)종가에 대해 20일 이평선\n",
    "    - Upper Band\n",
    "    - Lower Band"
   ]
  },
  {
   "cell_type": "code",
   "execution_count": null,
   "id": "222e5eab",
   "metadata": {
    "ExecuteTime": {
     "end_time": "2021-09-05T03:30:06.109379Z",
     "start_time": "2021-09-05T03:30:05.947236Z"
    }
   },
   "outputs": [],
   "source": [
    "import FinanceDataReader as fdr\n",
    "import matplotlib.pyplot as plt\n",
    "df = fdr.DataReader('035420', '2020', '2021')\n",
    "\n",
    "\n",
    "# <TODO>\n",
    "df['MA20'] =                  # 20일 이평선 구하기\n",
    "df['STD'] =                   # 20일 이동표준편차 구하기\n",
    "df['UB'] =                    # upper band 구하기\n",
    "df['LB'] =                    # lower band 구하기\n",
    "df.dropna(inplace=True)\n",
    "\n",
    "plt.figure(figsize=(14,5))\n",
    "plt.plot(df.index, df.Close, label='Close')\n",
    "plt.plot(df.index, df.UB, linestyle='--', label='Upper Band')\n",
    "plt.plot(df.index, df.LB, linestyle='--', label='Lower Band')\n",
    "plt.plot(df.index, df.MA20, label='MA20')\n",
    "plt.fill_between(df.index, df.UB, df.LB, color='grey', alpha=0.2)\n",
    "plt.legend()\n",
    "plt.show()"
   ]
  },
  {
   "cell_type": "code",
   "execution_count": null,
   "id": "84c581e8",
   "metadata": {},
   "outputs": [],
   "source": []
  }
 ],
 "metadata": {
  "hide_input": false,
  "kernelspec": {
   "display_name": "Python 3",
   "language": "python",
   "name": "python3"
  },
  "language_info": {
   "codemirror_mode": {
    "name": "ipython",
    "version": 3
   },
   "file_extension": ".py",
   "mimetype": "text/x-python",
   "name": "python",
   "nbconvert_exporter": "python",
   "pygments_lexer": "ipython3",
   "version": "3.8.5"
  },
  "toc": {
   "base_numbering": 1,
   "nav_menu": {},
   "number_sections": true,
   "sideBar": true,
   "skip_h1_title": false,
   "title_cell": "Table of Contents",
   "title_sidebar": "Contents",
   "toc_cell": false,
   "toc_position": {},
   "toc_section_display": true,
   "toc_window_display": false
  },
  "varInspector": {
   "cols": {
    "lenName": 16,
    "lenType": 16,
    "lenVar": 40
   },
   "kernels_config": {
    "python": {
     "delete_cmd_postfix": "",
     "delete_cmd_prefix": "del ",
     "library": "var_list.py",
     "varRefreshCmd": "print(var_dic_list())"
    },
    "r": {
     "delete_cmd_postfix": ") ",
     "delete_cmd_prefix": "rm(",
     "library": "var_list.r",
     "varRefreshCmd": "cat(var_dic_list()) "
    }
   },
   "types_to_exclude": [
    "module",
    "function",
    "builtin_function_or_method",
    "instance",
    "_Feature"
   ],
   "window_display": false
  }
 },
 "nbformat": 4,
 "nbformat_minor": 5
}
