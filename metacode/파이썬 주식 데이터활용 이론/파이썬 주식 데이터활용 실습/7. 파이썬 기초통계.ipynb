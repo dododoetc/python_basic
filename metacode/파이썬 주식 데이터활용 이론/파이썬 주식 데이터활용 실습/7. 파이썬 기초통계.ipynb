{
 "cells": [
  {
   "cell_type": "markdown",
   "id": "f20194cd",
   "metadata": {},
   "source": [
    "## 기초통계량"
   ]
  },
  {
   "cell_type": "markdown",
   "id": "a0797358",
   "metadata": {},
   "source": [
    "- mode\n",
    "- median\n",
    "- mean\n",
    "- variance\n",
    "- standard deviation\n",
    "- skewness\n",
    "- kurtosis"
   ]
  },
  {
   "cell_type": "code",
   "execution_count": null,
   "id": "2f80fa75",
   "metadata": {
    "ExecuteTime": {
     "end_time": "2021-08-31T09:58:26.753879Z",
     "start_time": "2021-08-31T09:58:26.469766Z"
    }
   },
   "outputs": [],
   "source": [
    "import json\n",
    "#key:종목 / value:symbol인 딕셔너리 가져오기\n",
    "stock2code = json.load(open('data/stock2code.json','r'))\n",
    "\n",
    "naver = stock2code['NAVER']\n",
    "\n",
    "import FinanceDataReader as fdr\n",
    "data = fdr.DataReader(naver)\n",
    "data"
   ]
  },
  {
   "cell_type": "code",
   "execution_count": null,
   "id": "4d818720",
   "metadata": {
    "ExecuteTime": {
     "end_time": "2021-08-31T09:58:26.798731Z",
     "start_time": "2021-08-31T09:58:26.757105Z"
    }
   },
   "outputs": [],
   "source": [
    "#data의 간단한 통계정보 확인\n",
    "data.describe()"
   ]
  },
  {
   "cell_type": "code",
   "execution_count": null,
   "id": "17a1a569",
   "metadata": {
    "ExecuteTime": {
     "end_time": "2021-08-31T09:58:26.843611Z",
     "start_time": "2021-08-31T09:58:26.800726Z"
    }
   },
   "outputs": [],
   "source": [
    "print(\"****MEDIAN****\")\n",
    "print(data.median())\n",
    "print()\n",
    "\n",
    "print(\"****산술평균****\")\n",
    "print(data.mean())\n",
    "print()\n",
    "print(\"****산술평균(axis=1)****\")\n",
    "print(data[['Open','High','Low','Close']].mean(axis=1))\n",
    "print()\n",
    "print(\"****최빈값****\")\n",
    "print(data.mode())\n",
    "print()\n",
    "print(\"****분산****\")\n",
    "print(data.var())\n",
    "print()\n",
    "print(\"****표준편차****\")\n",
    "print(data.std())\n",
    "print()\n",
    "print(\"****왜도****\")\n",
    "print(data.skew())\n",
    "print()\n",
    "print(\"****첨도****\")\n",
    "print(data.kurtosis())"
   ]
  },
  {
   "cell_type": "markdown",
   "id": "bf423642",
   "metadata": {},
   "source": [
    "### 기하평균"
   ]
  },
  {
   "cell_type": "code",
   "execution_count": null,
   "id": "939f7d7c",
   "metadata": {
    "ExecuteTime": {
     "end_time": "2021-08-31T09:58:26.858572Z",
     "start_time": "2021-08-31T09:58:26.846604Z"
    }
   },
   "outputs": [],
   "source": [
    "#산술평균\n",
    "data.Change.loc['2021-06-01':'2021-06-30'].mean()"
   ]
  },
  {
   "cell_type": "code",
   "execution_count": null,
   "id": "fa790b50",
   "metadata": {
    "ExecuteTime": {
     "end_time": "2021-08-31T09:58:26.873532Z",
     "start_time": "2021-08-31T09:58:26.860567Z"
    }
   },
   "outputs": [],
   "source": [
    "len(data.Change.loc['2021-06-01':'2021-06-30'])"
   ]
  },
  {
   "cell_type": "code",
   "execution_count": null,
   "id": "85a08611",
   "metadata": {
    "ExecuteTime": {
     "end_time": "2021-08-31T09:58:26.888518Z",
     "start_time": "2021-08-31T09:58:26.875527Z"
    }
   },
   "outputs": [],
   "source": [
    "#기하평균\n",
    "((data.Change.loc['2021-06-01':'2021-06-30'] + 1).prod()) ** (1/22)  - 1"
   ]
  },
  {
   "cell_type": "code",
   "execution_count": null,
   "id": "71b86241",
   "metadata": {
    "ExecuteTime": {
     "end_time": "2021-08-31T09:58:26.903510Z",
     "start_time": "2021-08-31T09:58:26.892483Z"
    }
   },
   "outputs": [],
   "source": [
    "def geo_mean(x):\n",
    "    return (x +1).prod() ** (1/len(x)) - 1"
   ]
  },
  {
   "cell_type": "code",
   "execution_count": null,
   "id": "1dcd7f8c",
   "metadata": {
    "ExecuteTime": {
     "end_time": "2021-08-31T09:58:26.918411Z",
     "start_time": "2021-08-31T09:58:26.907443Z"
    }
   },
   "outputs": [],
   "source": [
    "print(\"기하평균\", geo_mean(data.Change))\n",
    "print(\"산술평균\", data.Change.mean())"
   ]
  },
  {
   "cell_type": "markdown",
   "id": "254a2eff",
   "metadata": {},
   "source": [
    "## 이동평균"
   ]
  },
  {
   "cell_type": "markdown",
   "id": "fc4dcfdb",
   "metadata": {},
   "source": [
    "### 단순이동평균과 지수이동평균"
   ]
  },
  {
   "cell_type": "code",
   "execution_count": null,
   "id": "7ebe85c2",
   "metadata": {
    "ExecuteTime": {
     "end_time": "2021-08-31T09:58:27.490249Z",
     "start_time": "2021-08-31T09:58:26.921405Z"
    }
   },
   "outputs": [],
   "source": [
    "data.Close['2021-05-01':].plot(label='close')\n",
    "data.Close.rolling(12).mean().loc['2021-05-01':].plot(label='sma12')\n",
    "data.Close.ewm(12).mean().loc['2021-05-01':].plot(label='ema12')\n",
    "plt.legend()\n",
    "plt.show()"
   ]
  },
  {
   "cell_type": "markdown",
   "id": "2f1f83d7",
   "metadata": {},
   "source": [
    "## 상관"
   ]
  },
  {
   "cell_type": "markdown",
   "id": "3acdab3e",
   "metadata": {},
   "source": [
    "- 공분산\n",
    "- 상관계수"
   ]
  },
  {
   "cell_type": "code",
   "execution_count": null,
   "id": "cabf2ee0",
   "metadata": {
    "ExecuteTime": {
     "end_time": "2021-08-31T09:58:27.760441Z",
     "start_time": "2021-08-31T09:58:27.491894Z"
    }
   },
   "outputs": [],
   "source": [
    "df1 = fdr.DataReader(stock2code['셀트리온']).Close\n",
    "df2 = fdr.DataReader(stock2code['SK바이오사이언스']).Close\n",
    "df = pd.concat([df1, df2], axis=1).dropna()\n",
    "df.columns = ['Cellt','SKBio']\n",
    "\n",
    "#공분산\n",
    "df.cov()"
   ]
  },
  {
   "cell_type": "code",
   "execution_count": null,
   "id": "2d36838c",
   "metadata": {
    "ExecuteTime": {
     "end_time": "2021-08-31T09:58:27.775179Z",
     "start_time": "2021-08-31T09:58:27.761437Z"
    }
   },
   "outputs": [],
   "source": [
    "#상관계수\n",
    "df.corr()"
   ]
  },
  {
   "cell_type": "code",
   "execution_count": null,
   "id": "fcd9f59c",
   "metadata": {
    "ExecuteTime": {
     "end_time": "2021-08-31T09:58:27.835505Z",
     "start_time": "2021-08-31T09:58:27.777699Z"
    }
   },
   "outputs": [],
   "source": [
    "#공분산 값과 표준편차값으로 상관계수 연산\n",
    "df.cov().iloc[0,1] / (df.Cellt.std() * df.SKBio.std())"
   ]
  },
  {
   "cell_type": "markdown",
   "id": "536e48e3",
   "metadata": {},
   "source": [
    "## 회귀분석"
   ]
  },
  {
   "cell_type": "code",
   "execution_count": null,
   "id": "0d302235",
   "metadata": {
    "ExecuteTime": {
     "end_time": "2021-08-31T09:58:41.412163Z",
     "start_time": "2021-08-31T09:58:27.837501Z"
    }
   },
   "outputs": [],
   "source": [
    "!pip install scipy\n",
    "!pip install scikit-learn\n",
    "!pip install statsmodels"
   ]
  },
  {
   "cell_type": "markdown",
   "id": "d0403fda",
   "metadata": {},
   "source": [
    "### scipy"
   ]
  },
  {
   "cell_type": "code",
   "execution_count": null,
   "id": "47627016",
   "metadata": {
    "ExecuteTime": {
     "end_time": "2021-08-31T09:58:41.427123Z",
     "start_time": "2021-08-31T09:58:41.414158Z"
    }
   },
   "outputs": [],
   "source": [
    "import scipy as sp"
   ]
  },
  {
   "cell_type": "code",
   "execution_count": null,
   "id": "3c5ab34e",
   "metadata": {
    "ExecuteTime": {
     "end_time": "2021-08-31T09:58:41.442191Z",
     "start_time": "2021-08-31T09:58:41.429117Z"
    }
   },
   "outputs": [],
   "source": [
    "data = data.reset_index()[['Close']]\n",
    "\n",
    "#회귀선 기울기, 상수항\n",
    "slope, intercept, _, _, _, = sp.stats.linregress(data.index, data.Close)\n",
    "print(slope, intercept)"
   ]
  },
  {
   "cell_type": "code",
   "execution_count": null,
   "id": "c8e52c87",
   "metadata": {
    "ExecuteTime": {
     "end_time": "2021-08-31T09:58:41.772282Z",
     "start_time": "2021-08-31T09:58:41.444733Z"
    }
   },
   "outputs": [],
   "source": [
    "plt.plot(data.index, data.Close)\n",
    "plt.plot(data.index, data.index * slope + intercept)\n",
    "plt.show()"
   ]
  },
  {
   "cell_type": "markdown",
   "id": "7519f6ec",
   "metadata": {},
   "source": [
    "### scikit-learn"
   ]
  },
  {
   "cell_type": "code",
   "execution_count": null,
   "id": "e5b1c9fc",
   "metadata": {
    "ExecuteTime": {
     "end_time": "2021-08-31T09:58:41.996646Z",
     "start_time": "2021-08-31T09:58:41.775195Z"
    }
   },
   "outputs": [],
   "source": [
    "from sklearn.linear_model import LinearRegression\n",
    "import statsmodels.api as sm"
   ]
  },
  {
   "cell_type": "code",
   "execution_count": null,
   "id": "96d88d2d",
   "metadata": {
    "ExecuteTime": {
     "end_time": "2021-08-31T09:58:42.026465Z",
     "start_time": "2021-08-31T09:58:42.001419Z"
    }
   },
   "outputs": [],
   "source": [
    "#상수항 넣어주기\n",
    "index= sm.add_constant(data.index)\n",
    "index"
   ]
  },
  {
   "cell_type": "code",
   "execution_count": null,
   "id": "1797134b",
   "metadata": {
    "ExecuteTime": {
     "end_time": "2021-08-31T09:58:42.087048Z",
     "start_time": "2021-08-31T09:58:42.031510Z"
    }
   },
   "outputs": [],
   "source": [
    "model = LinearRegression(fit_intercept=True)\n",
    "model.fit(index, data.Close)"
   ]
  },
  {
   "cell_type": "code",
   "execution_count": null,
   "id": "63849557",
   "metadata": {
    "ExecuteTime": {
     "end_time": "2021-08-31T09:58:42.101984Z",
     "start_time": "2021-08-31T09:58:42.090922Z"
    }
   },
   "outputs": [],
   "source": [
    "#회귀선 기울기, 상수항\n",
    "model.coef_, model.intercept_"
   ]
  },
  {
   "cell_type": "code",
   "execution_count": null,
   "id": "f9c2c61e",
   "metadata": {
    "ExecuteTime": {
     "end_time": "2021-08-31T09:58:42.477813Z",
     "start_time": "2021-08-31T09:58:42.105881Z"
    }
   },
   "outputs": [],
   "source": [
    "plt.plot(data.index, data.Close)\n",
    "plt.plot(index, index * model.coef_ + model.intercept_)\n",
    "plt.show()"
   ]
  },
  {
   "cell_type": "markdown",
   "id": "1ea0c833",
   "metadata": {},
   "source": [
    "### statsmodels"
   ]
  },
  {
   "cell_type": "code",
   "execution_count": null,
   "id": "7030f9df",
   "metadata": {
    "ExecuteTime": {
     "end_time": "2021-08-31T09:58:42.537444Z",
     "start_time": "2021-08-31T09:58:42.491602Z"
    }
   },
   "outputs": [],
   "source": [
    "index = sm.add_constant(data.index)\n",
    "model = sm.OLS(data.Close, index)\n",
    "result = model.fit()\n",
    "result.summary()"
   ]
  },
  {
   "cell_type": "code",
   "execution_count": null,
   "id": "876c5605",
   "metadata": {
    "ExecuteTime": {
     "end_time": "2021-08-31T09:58:42.552403Z",
     "start_time": "2021-08-31T09:58:42.543428Z"
    }
   },
   "outputs": [],
   "source": [
    "result.params"
   ]
  },
  {
   "cell_type": "code",
   "execution_count": null,
   "id": "98c629c0",
   "metadata": {
    "ExecuteTime": {
     "end_time": "2021-08-31T09:58:42.567362Z",
     "start_time": "2021-08-31T09:58:42.555397Z"
    }
   },
   "outputs": [],
   "source": [
    "result.rsquared"
   ]
  },
  {
   "cell_type": "code",
   "execution_count": null,
   "id": "47938314",
   "metadata": {
    "ExecuteTime": {
     "end_time": "2021-08-31T09:58:42.837714Z",
     "start_time": "2021-08-31T09:58:42.569358Z"
    }
   },
   "outputs": [],
   "source": [
    "plt.plot(data.index, data.Close)\n",
    "result.fittedvalues.plot()\n",
    "plt.show()"
   ]
  }
 ],
 "metadata": {
  "hide_input": false,
  "kernelspec": {
   "display_name": "Python 3",
   "language": "python",
   "name": "python3"
  },
  "language_info": {
   "codemirror_mode": {
    "name": "ipython",
    "version": 3
   },
   "file_extension": ".py",
   "mimetype": "text/x-python",
   "name": "python",
   "nbconvert_exporter": "python",
   "pygments_lexer": "ipython3",
   "version": "3.8.5"
  },
  "toc": {
   "base_numbering": 1,
   "nav_menu": {},
   "number_sections": true,
   "sideBar": true,
   "skip_h1_title": false,
   "title_cell": "Table of Contents",
   "title_sidebar": "Contents",
   "toc_cell": false,
   "toc_position": {},
   "toc_section_display": true,
   "toc_window_display": false
  },
  "varInspector": {
   "cols": {
    "lenName": 16,
    "lenType": 16,
    "lenVar": 40
   },
   "kernels_config": {
    "python": {
     "delete_cmd_postfix": "",
     "delete_cmd_prefix": "del ",
     "library": "var_list.py",
     "varRefreshCmd": "print(var_dic_list())"
    },
    "r": {
     "delete_cmd_postfix": ") ",
     "delete_cmd_prefix": "rm(",
     "library": "var_list.r",
     "varRefreshCmd": "cat(var_dic_list()) "
    }
   },
   "types_to_exclude": [
    "module",
    "function",
    "builtin_function_or_method",
    "instance",
    "_Feature"
   ],
   "window_display": false
  }
 },
 "nbformat": 4,
 "nbformat_minor": 5
}
