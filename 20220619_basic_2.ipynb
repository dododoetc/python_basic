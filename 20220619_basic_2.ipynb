{
 "cells": [
  {
   "cell_type": "markdown",
   "metadata": {},
   "source": [
    "web crawling"
   ]
  },
  {
   "cell_type": "code",
   "execution_count": null,
   "metadata": {},
   "outputs": [],
   "source": [
    "!pip install BeautifulSoup4"
   ]
  },
  {
   "cell_type": "code",
   "execution_count": null,
   "metadata": {},
   "outputs": [],
   "source": [
    "!pip install selenium"
   ]
  },
  {
   "cell_type": "code",
   "execution_count": 1,
   "metadata": {},
   "outputs": [],
   "source": [
    "import requests\n",
    "from bs4 import BeautifulSoup\n",
    "import pandas as pd\n",
    "from fake_useragent import UserAgent"
   ]
  },
  {
   "cell_type": "code",
   "execution_count": null,
   "metadata": {},
   "outputs": [],
   "source": [
    "url = 'https://en.wikipedia.org/wiki/List_of_S%26P_500_companies'\n",
    "response = requests.get(url)\n",
    "doc = BeautifulSoup(response.text, 'html.parser')\n"
   ]
  },
  {
   "cell_type": "code",
   "execution_count": null,
   "metadata": {},
   "outputs": [],
   "source": [
    "def get_sp500():\n",
    "    symbol = pd.Series([data.text.replace('\\n','') for data in doc.select('#constituents > tbody > tr > td:nth-child(1)')], name='Symbol')\n",
    "    security = pd.Series([data.text.replace('\\n','') for data in doc.select('#constituents > tbody > tr > td:nth-child(2)')], name = 'Security')\n",
    "    gics_sector = pd.Series([data.text.replace('\\n','') for data in doc.select('#constituents > tbody > tr > td:nth-child(4)')], name = 'GICS')\n",
    "    ticker = pd.Series([data.text.replace('\\n','') for data in doc.select('#constituents > tbody > tr > td:nth-child(8)')], name = 'CIK')\n",
    "    sp500_data = pd.concat([symbol, security, gics_sector, ticker], axis=1)\n",
    "    return sp500_data\n"
   ]
  },
  {
   "cell_type": "code",
   "execution_count": null,
   "metadata": {},
   "outputs": [],
   "source": [
    "get_sp500()"
   ]
  },
  {
   "cell_type": "code",
   "execution_count": null,
   "metadata": {},
   "outputs": [],
   "source": [
    "!pip install -U fake-useragent"
   ]
  },
  {
   "cell_type": "markdown",
   "metadata": {},
   "source": [
    "###TIGER 200 IT (139260)\n",
    "\n",
    "###TIGER 헬스케어 (143860)"
   ]
  },
  {
   "cell_type": "code",
   "execution_count": null,
   "metadata": {},
   "outputs": [],
   "source": [
    "!pip install html5lib"
   ]
  },
  {
   "cell_type": "code",
   "execution_count": null,
   "metadata": {},
   "outputs": [],
   "source": [
    "!pip install lxml"
   ]
  },
  {
   "cell_type": "code",
   "execution_count": 23,
   "metadata": {},
   "outputs": [],
   "source": [
    "contents = []\n",
    "for i in range(1,11):\n",
    "    url = 'https://finance.naver.com/item/sise_day.nhn?code=139260&page={}'.format(i)\n",
    "    headers = {'user-agent' : UserAgent().chrome}\n",
    "    response = requests.get(url, headers=headers)\n",
    "    doc = BeautifulSoup(response.text, 'html5lib')\n",
    "    headers = [h.text for h in doc.select('body > table.type2 > tbody > tr:nth-child(1) > th')]\n",
    "\n",
    "    for i in range(3,8):\n",
    "        row = doc.select('body > table.type2 > tbody > tr:nth-child({}) > td'.format(i))\n",
    "        contents.append([data.text.replace('\\n','').replace('\\t','') for data in row])\n",
    "    for i in range(11,16):\n",
    "        row = doc.select('body > table.type2 > tbody > tr:nth-child({}) > td'.format(i))\n",
    "        contents.append([data.text.replace('\\n','').replace('\\t','') for data in row])    "
   ]
  },
  {
   "cell_type": "code",
   "execution_count": 27,
   "metadata": {},
   "outputs": [
    {
     "data": {
      "text/html": [
       "<div>\n",
       "<style scoped>\n",
       "    .dataframe tbody tr th:only-of-type {\n",
       "        vertical-align: middle;\n",
       "    }\n",
       "\n",
       "    .dataframe tbody tr th {\n",
       "        vertical-align: top;\n",
       "    }\n",
       "\n",
       "    .dataframe thead th {\n",
       "        text-align: right;\n",
       "    }\n",
       "</style>\n",
       "<table border=\"1\" class=\"dataframe\">\n",
       "  <thead>\n",
       "    <tr style=\"text-align: right;\">\n",
       "      <th></th>\n",
       "      <th>종가</th>\n",
       "      <th>전일비</th>\n",
       "      <th>시가</th>\n",
       "      <th>고가</th>\n",
       "      <th>저가</th>\n",
       "      <th>거래량</th>\n",
       "    </tr>\n",
       "    <tr>\n",
       "      <th>날짜</th>\n",
       "      <th></th>\n",
       "      <th></th>\n",
       "      <th></th>\n",
       "      <th></th>\n",
       "      <th></th>\n",
       "      <th></th>\n",
       "    </tr>\n",
       "  </thead>\n",
       "  <tbody>\n",
       "    <tr>\n",
       "      <th>2022.06.21</th>\n",
       "      <td>28255</td>\n",
       "      <td>350</td>\n",
       "      <td>27905</td>\n",
       "      <td>28330</td>\n",
       "      <td>27880</td>\n",
       "      <td>207946</td>\n",
       "    </tr>\n",
       "    <tr>\n",
       "      <th>2022.06.20</th>\n",
       "      <td>27905</td>\n",
       "      <td>445</td>\n",
       "      <td>28430</td>\n",
       "      <td>28430</td>\n",
       "      <td>27615</td>\n",
       "      <td>265041</td>\n",
       "    </tr>\n",
       "    <tr>\n",
       "      <th>2022.06.17</th>\n",
       "      <td>28350</td>\n",
       "      <td>220</td>\n",
       "      <td>28110</td>\n",
       "      <td>28465</td>\n",
       "      <td>27890</td>\n",
       "      <td>276099</td>\n",
       "    </tr>\n",
       "    <tr>\n",
       "      <th>2022.06.16</th>\n",
       "      <td>28570</td>\n",
       "      <td>245</td>\n",
       "      <td>28755</td>\n",
       "      <td>29300</td>\n",
       "      <td>28480</td>\n",
       "      <td>399486</td>\n",
       "    </tr>\n",
       "    <tr>\n",
       "      <th>2022.06.15</th>\n",
       "      <td>28325</td>\n",
       "      <td>325</td>\n",
       "      <td>28505</td>\n",
       "      <td>28680</td>\n",
       "      <td>28055</td>\n",
       "      <td>197091</td>\n",
       "    </tr>\n",
       "    <tr>\n",
       "      <th>...</th>\n",
       "      <td>...</td>\n",
       "      <td>...</td>\n",
       "      <td>...</td>\n",
       "      <td>...</td>\n",
       "      <td>...</td>\n",
       "      <td>...</td>\n",
       "    </tr>\n",
       "    <tr>\n",
       "      <th>2022.01.27</th>\n",
       "      <td>33210</td>\n",
       "      <td>1430</td>\n",
       "      <td>34870</td>\n",
       "      <td>34995</td>\n",
       "      <td>33110</td>\n",
       "      <td>313544</td>\n",
       "    </tr>\n",
       "    <tr>\n",
       "      <th>2022.01.26</th>\n",
       "      <td>34640</td>\n",
       "      <td>240</td>\n",
       "      <td>35020</td>\n",
       "      <td>35245</td>\n",
       "      <td>34555</td>\n",
       "      <td>483787</td>\n",
       "    </tr>\n",
       "    <tr>\n",
       "      <th>2022.01.25</th>\n",
       "      <td>34880</td>\n",
       "      <td>965</td>\n",
       "      <td>35870</td>\n",
       "      <td>35895</td>\n",
       "      <td>34730</td>\n",
       "      <td>456268</td>\n",
       "    </tr>\n",
       "    <tr>\n",
       "      <th>2022.01.24</th>\n",
       "      <td>35845</td>\n",
       "      <td>165</td>\n",
       "      <td>35690</td>\n",
       "      <td>35990</td>\n",
       "      <td>35495</td>\n",
       "      <td>233296</td>\n",
       "    </tr>\n",
       "    <tr>\n",
       "      <th>2022.01.21</th>\n",
       "      <td>36010</td>\n",
       "      <td>980</td>\n",
       "      <td>36480</td>\n",
       "      <td>36480</td>\n",
       "      <td>35760</td>\n",
       "      <td>254704</td>\n",
       "    </tr>\n",
       "  </tbody>\n",
       "</table>\n",
       "<p>100 rows × 6 columns</p>\n",
       "</div>"
      ],
      "text/plain": [
       "               종가   전일비     시가     고가     저가     거래량\n",
       "날짜                                                  \n",
       "2022.06.21  28255   350  27905  28330  27880  207946\n",
       "2022.06.20  27905   445  28430  28430  27615  265041\n",
       "2022.06.17  28350   220  28110  28465  27890  276099\n",
       "2022.06.16  28570   245  28755  29300  28480  399486\n",
       "2022.06.15  28325   325  28505  28680  28055  197091\n",
       "...           ...   ...    ...    ...    ...     ...\n",
       "2022.01.27  33210  1430  34870  34995  33110  313544\n",
       "2022.01.26  34640   240  35020  35245  34555  483787\n",
       "2022.01.25  34880   965  35870  35895  34730  456268\n",
       "2022.01.24  35845   165  35690  35990  35495  233296\n",
       "2022.01.21  36010   980  36480  36480  35760  254704\n",
       "\n",
       "[100 rows x 6 columns]"
      ]
     },
     "execution_count": 27,
     "metadata": {},
     "output_type": "execute_result"
    }
   ],
   "source": [
    "etf_data = pd.DataFrame(contents, columns=headers)\n",
    "etf_data.set_index('날짜', inplace=True)\n",
    "etf_data.applymap(lambda x : int(x.replace(',', '')))\n"
   ]
  },
  {
   "cell_type": "code",
   "execution_count": 28,
   "metadata": {},
   "outputs": [],
   "source": [
    "from selenium import webdriver"
   ]
  },
  {
   "cell_type": "code",
   "execution_count": 31,
   "metadata": {},
   "outputs": [],
   "source": [
    "pg = 3\n",
    "url = 'https://news.naver.com/main/main.naver?mode=LSD&mid=shm&sid1=100#&date=%2000:00:00&page={}'.format(pg)\n",
    "driver = webdriver.Chrome()\n",
    "driver.get(url)\n"
   ]
  }
 ],
 "metadata": {
  "interpreter": {
   "hash": "a524bf9124eab6af6be8696dbe1653ba4ef38fd45d54bfe710de2028624ba7ad"
  },
  "kernelspec": {
   "display_name": "Python 3.10.4 64-bit",
   "language": "python",
   "name": "python3"
  },
  "language_info": {
   "codemirror_mode": {
    "name": "ipython",
    "version": 3
   },
   "file_extension": ".py",
   "mimetype": "text/x-python",
   "name": "python",
   "nbconvert_exporter": "python",
   "pygments_lexer": "ipython3",
   "version": "3.10.4"
  },
  "orig_nbformat": 4
 },
 "nbformat": 4,
 "nbformat_minor": 2
}
