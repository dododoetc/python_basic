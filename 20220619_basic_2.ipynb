{
 "cells": [
  {
   "cell_type": "code",
   "execution_count": 18,
   "metadata": {},
   "outputs": [
    {
     "data": {
      "text/plain": [
       "['NanumBarunGothic',\n",
       " 'NanumGothic',\n",
       " 'NanumGothic',\n",
       " 'NanumGothic',\n",
       " 'NanumGothic',\n",
       " 'NanumGothic Eco',\n",
       " 'NanumGothic Eco',\n",
       " 'NanumGothic Eco',\n",
       " 'NanumGothic Eco',\n",
       " 'NanumGothic Eco',\n",
       " 'NanumGothic Eco',\n",
       " 'NanumGothicOTF',\n",
       " 'NanumGothicOTF',\n",
       " 'NanumGothicOTF',\n",
       " 'NanumGothicOTF',\n",
       " 'NanumGothicOTF',\n",
       " 'NanumGothicOTF',\n",
       " 'NanumGothicOTF',\n",
       " 'NanumGothicOTF',\n",
       " 'NanumGothicOTF Eco',\n",
       " 'NanumGothicOTF Eco',\n",
       " 'NanumGothicOTF Eco',\n",
       " 'NanumGothicOTF Eco',\n",
       " 'NanumGothicOTF Eco',\n",
       " 'NanumGothicOTF Eco']"
      ]
     },
     "execution_count": 18,
     "metadata": {},
     "output_type": "execute_result"
    }
   ],
   "source": [
    "import matplotlib.pyplot as plt\n",
    "import matplotlib\n",
    "sorted([f.name for f in matplotlib.font_manager.fontManager.ttflist if f.name.startswith('Nanum')])"
   ]
  },
  {
   "cell_type": "code",
   "execution_count": 19,
   "metadata": {},
   "outputs": [],
   "source": [
    "plt.rcParams['font.family']='NanumGothic'\n",
    "plt.rcParams['axes.unicode_minus'] = False"
   ]
  },
  {
   "cell_type": "code",
   "execution_count": 2,
   "metadata": {},
   "outputs": [],
   "source": [
    "from pykrx import stock\n",
    "from pykrx import bond"
   ]
  },
  {
   "cell_type": "code",
   "execution_count": 30,
   "metadata": {},
   "outputs": [
    {
     "data": {
      "text/html": [
       "<div>\n",
       "<style scoped>\n",
       "    .dataframe tbody tr th:only-of-type {\n",
       "        vertical-align: middle;\n",
       "    }\n",
       "\n",
       "    .dataframe tbody tr th {\n",
       "        vertical-align: top;\n",
       "    }\n",
       "\n",
       "    .dataframe thead th {\n",
       "        text-align: right;\n",
       "    }\n",
       "</style>\n",
       "<table border=\"1\" class=\"dataframe\">\n",
       "  <thead>\n",
       "    <tr style=\"text-align: right;\">\n",
       "      <th>코스피</th>\n",
       "      <th>close</th>\n",
       "      <th>open</th>\n",
       "      <th>high</th>\n",
       "      <th>low</th>\n",
       "      <th>volume</th>\n",
       "    </tr>\n",
       "    <tr>\n",
       "      <th>날짜</th>\n",
       "      <th></th>\n",
       "      <th></th>\n",
       "      <th></th>\n",
       "      <th></th>\n",
       "      <th></th>\n",
       "    </tr>\n",
       "  </thead>\n",
       "  <tbody>\n",
       "    <tr>\n",
       "      <th>2008-01-02</th>\n",
       "      <td>1853.45</td>\n",
       "      <td>1891.45</td>\n",
       "      <td>1892.50</td>\n",
       "      <td>1852.78</td>\n",
       "      <td>247085903</td>\n",
       "    </tr>\n",
       "    <tr>\n",
       "      <th>2008-01-03</th>\n",
       "      <td>1852.73</td>\n",
       "      <td>1834.44</td>\n",
       "      <td>1858.08</td>\n",
       "      <td>1821.61</td>\n",
       "      <td>253668393</td>\n",
       "    </tr>\n",
       "    <tr>\n",
       "      <th>2008-01-04</th>\n",
       "      <td>1863.90</td>\n",
       "      <td>1853.54</td>\n",
       "      <td>1869.76</td>\n",
       "      <td>1824.41</td>\n",
       "      <td>299084449</td>\n",
       "    </tr>\n",
       "    <tr>\n",
       "      <th>2008-01-07</th>\n",
       "      <td>1831.14</td>\n",
       "      <td>1815.73</td>\n",
       "      <td>1840.99</td>\n",
       "      <td>1814.35</td>\n",
       "      <td>268129758</td>\n",
       "    </tr>\n",
       "    <tr>\n",
       "      <th>2008-01-08</th>\n",
       "      <td>1826.23</td>\n",
       "      <td>1838.64</td>\n",
       "      <td>1840.62</td>\n",
       "      <td>1818.69</td>\n",
       "      <td>296573522</td>\n",
       "    </tr>\n",
       "  </tbody>\n",
       "</table>\n",
       "</div>"
      ],
      "text/plain": [
       "코스피           close     open     high      low     volume\n",
       "날짜                                                       \n",
       "2008-01-02  1853.45  1891.45  1892.50  1852.78  247085903\n",
       "2008-01-03  1852.73  1834.44  1858.08  1821.61  253668393\n",
       "2008-01-04  1863.90  1853.54  1869.76  1824.41  299084449\n",
       "2008-01-07  1831.14  1815.73  1840.99  1814.35  268129758\n",
       "2008-01-08  1826.23  1838.64  1840.62  1818.69  296573522"
      ]
     },
     "execution_count": 30,
     "metadata": {},
     "output_type": "execute_result"
    }
   ],
   "source": [
    "df = stock.get_index_ohlcv(\"20080102\", \"20080108\", \"1001\")\n",
    "df1 = df.iloc[:, 0:5]\n",
    "df2= df.reindex(columns=['종가', '시가', '고가', '저가','거래량' ])\n",
    "\n",
    "df2.columns.values[0:5] =[\"close\", \"open\", \"high\", \"low\", \"volume\" ]\n",
    "df2\n",
    "\n",
    "#df2 = df2.rename(columns={df2.columns[0]: 'close', df2.columns[1]: 'open', df2.columns[2]})\n",
    "\n"
   ]
  }
 ],
 "metadata": {
  "interpreter": {
   "hash": "a524bf9124eab6af6be8696dbe1653ba4ef38fd45d54bfe710de2028624ba7ad"
  },
  "kernelspec": {
   "display_name": "Python 3.10.4 64-bit",
   "language": "python",
   "name": "python3"
  },
  "language_info": {
   "codemirror_mode": {
    "name": "ipython",
    "version": 3
   },
   "file_extension": ".py",
   "mimetype": "text/x-python",
   "name": "python",
   "nbconvert_exporter": "python",
   "pygments_lexer": "ipython3",
   "version": "3.10.4"
  },
  "orig_nbformat": 4
 },
 "nbformat": 4,
 "nbformat_minor": 2
}
